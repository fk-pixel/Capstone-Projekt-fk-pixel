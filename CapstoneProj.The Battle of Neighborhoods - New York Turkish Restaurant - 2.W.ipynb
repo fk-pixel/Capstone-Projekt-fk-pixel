{
 "cells": [
  {
   "cell_type": "code",
   "execution_count": 13,
   "metadata": {},
   "outputs": [
    {
     "name": "stdout",
     "output_type": "stream",
     "text": [
      "Requirement already satisfied: geocoder in c:\\users\\user\\anaconda3\\lib\\site-packages (1.38.1)\n",
      "Requirement already satisfied: six in c:\\users\\user\\anaconda3\\lib\\site-packages (from geocoder) (1.12.0)\n",
      "Requirement already satisfied: ratelim in c:\\users\\user\\anaconda3\\lib\\site-packages (from geocoder) (0.1.6)\n",
      "Requirement already satisfied: click in c:\\users\\user\\anaconda3\\lib\\site-packages (from geocoder) (7.0)\n",
      "Requirement already satisfied: future in c:\\users\\user\\anaconda3\\lib\\site-packages (from geocoder) (0.17.1)\n",
      "Requirement already satisfied: requests in c:\\users\\user\\anaconda3\\lib\\site-packages (from geocoder) (2.22.0)\n",
      "Requirement already satisfied: decorator in c:\\users\\user\\anaconda3\\lib\\site-packages (from ratelim->geocoder) (4.4.0)\n",
      "Requirement already satisfied: idna<2.9,>=2.5 in c:\\users\\user\\anaconda3\\lib\\site-packages (from requests->geocoder) (2.8)\n",
      "Requirement already satisfied: chardet<3.1.0,>=3.0.2 in c:\\users\\user\\anaconda3\\lib\\site-packages (from requests->geocoder) (3.0.4)\n",
      "Requirement already satisfied: certifi>=2017.4.17 in c:\\users\\user\\anaconda3\\lib\\site-packages (from requests->geocoder) (2019.6.16)\n",
      "Requirement already satisfied: urllib3!=1.25.0,!=1.25.1,<1.26,>=1.21.1 in c:\\users\\user\\anaconda3\\lib\\site-packages (from requests->geocoder) (1.24.2)\n",
      "Note: you may need to restart the kernel to use updated packages.\n"
     ]
    }
   ],
   "source": [
    "pip install geocoder"
   ]
  },
  {
   "cell_type": "code",
   "execution_count": 32,
   "metadata": {
    "scrolled": true
   },
   "outputs": [
    {
     "name": "stdout",
     "output_type": "stream",
     "text": [
      "Collecting foursquare\n",
      "  Downloading https://files.pythonhosted.org/packages/16/c7/d51ecf7e06a75741a61ff752e5e010db8794ec0af01da98f42db7ab64ffe/foursquare-1%212020.1.30-py3-none-any.whl\n",
      "Requirement already satisfied: six in c:\\users\\user\\anaconda3\\lib\\site-packages (from foursquare) (1.12.0)\n",
      "Requirement already satisfied: requests>=2.1 in c:\\users\\user\\anaconda3\\lib\\site-packages (from foursquare) (2.22.0)\n",
      "Requirement already satisfied: idna<2.9,>=2.5 in c:\\users\\user\\anaconda3\\lib\\site-packages (from requests>=2.1->foursquare) (2.8)\n",
      "Requirement already satisfied: chardet<3.1.0,>=3.0.2 in c:\\users\\user\\anaconda3\\lib\\site-packages (from requests>=2.1->foursquare) (3.0.4)\n",
      "Requirement already satisfied: urllib3!=1.25.0,!=1.25.1,<1.26,>=1.21.1 in c:\\users\\user\\anaconda3\\lib\\site-packages (from requests>=2.1->foursquare) (1.24.2)\n",
      "Requirement already satisfied: certifi>=2017.4.17 in c:\\users\\user\\anaconda3\\lib\\site-packages (from requests>=2.1->foursquare) (2019.6.16)\n",
      "Installing collected packages: foursquare\n",
      "Successfully installed foursquare-1!2020.1.30\n",
      "Note: you may need to restart the kernel to use updated packages.\n"
     ]
    }
   ],
   "source": [
    "pip install foursquare"
   ]
  },
  {
   "cell_type": "code",
   "execution_count": 272,
   "metadata": {},
   "outputs": [
    {
     "name": "stdout",
     "output_type": "stream",
     "text": [
      "Libraries imported.\n"
     ]
    }
   ],
   "source": [
    "import pandas as pd\n",
    "import numpy as np\n",
    "pd.set_option('display.max_columns', None)\n",
    "pd.set_option('display.max_rows', None)\n",
    "import requests\n",
    "from bs4 import BeautifulSoup\n",
    "import geocoder\n",
    "import os\n",
    "import folium # map rendering library\n",
    "from geopy.geocoders import Nominatim # convert an address into latitude and longitude values\n",
    "# Matplotlib and associated plotting modules\n",
    "import matplotlib.pyplot as plt\n",
    "import matplotlib.cm as cm\n",
    "import matplotlib.colors as colors\n",
    "%matplotlib inline\n",
    "import foursquare as instructed\n",
    "import json \n",
    "\n",
    "print('Libraries imported.')"
   ]
  },
  {
   "cell_type": "markdown",
   "metadata": {},
   "source": [
    "Now we define a function to get the geocodes i.e latitude and longitude of a given location using geopy."
   ]
  },
  {
   "cell_type": "code",
   "execution_count": 218,
   "metadata": {},
   "outputs": [],
   "source": [
    "def geo_location(address):\n",
    "    # get geo location of address\n",
    "    geolocator = Nominatim(user_agent=\"ny_explorer\")\n",
    "    location = geolocator.geocode(address)\n",
    "    latitude = location.latitude\n",
    "    longitude = location.longitude\n",
    "    return latitude,longitude"
   ]
  },
  {
   "cell_type": "markdown",
   "metadata": {},
   "source": [
    "We define a function to intract with FourSquare API and get top 100 venues within a radius of 1000 metres for a given latitude and longitude. Below function will return us the venue id , venue name and category."
   ]
  },
  {
   "cell_type": "code",
   "execution_count": 219,
   "metadata": {},
   "outputs": [],
   "source": [
    "def get_venues(lat,lng):\n",
    "    \n",
    "    #set variables\n",
    "    radius=1000\n",
    "    LIMIT=100\n",
    "    CLIENT_ID = 'R32KAKWWKS4IFZFYXM3WBYYFITV4ACNMAM4HT04SYZQEKNL2' # your Foursquare ID\n",
    "    CLIENT_SECRET = 'TWEGZJ5BV2LKXKET0HOSRJFRLUXKC5DKBDRMA0AUMSWXYZOR' # your Foursquare Secret\n",
    "    VERSION = '20180605' # Foursquare API version\n",
    "    \n",
    "    #url to fetch data from foursquare api\n",
    "    url = 'https://api.foursquare.com/v2/venues/explore?&client_id={}&client_secret={}&v={}&ll={},{}&radius={}&limit={}'.format(\n",
    "            CLIENT_ID, \n",
    "            CLIENT_SECRET, \n",
    "            VERSION, \n",
    "            lat, \n",
    "            lng, \n",
    "            radius, \n",
    "            LIMIT)\n",
    "    \n",
    "    # get all the data\n",
    "    results = requests.get(url).json()\n",
    "    venue_data=results[\"response\"]['groups'][0]['items']\n",
    "    venue_details=[]\n",
    "    for row in venue_data:\n",
    "        try:\n",
    "            venue_id=row['venue']['id']\n",
    "            venue_name=row['venue']['name']\n",
    "            venue_category=row['venue']['categories'][0]['name']\n",
    "            venue_details.append([venue_id,venue_name,venue_category])\n",
    "        except KeyError:\n",
    "            pass\n",
    "        \n",
    "    column_names=['ID','Name','Category']\n",
    "    df = pd.DataFrame(venue_details,columns=column_names)\n",
    "    return df\n",
    "            "
   ]
  },
  {
   "cell_type": "markdown",
   "metadata": {},
   "source": [
    "Now we will define a function to get venue details like like count , rating , tip counts for a given venue id. This will be used for ranking."
   ]
  },
  {
   "cell_type": "code",
   "execution_count": 220,
   "metadata": {},
   "outputs": [],
   "source": [
    "def get_venue_details(venue_id):\n",
    "        \n",
    "    CLIENT_ID = 'R32KAKWWKS4IFZFYXM3WBYYFITV4ACNMAM4HT04SYZQEKNL2' # your Foursquare ID\n",
    "    CLIENT_SECRET = 'TWEGZJ5BV2LKXKET0HOSRJFRLUXKC5DKBDRMA0AUMSWXYZOR' # your Foursquare Secret\n",
    "    VERSION = '20180605' # Foursquare API version\n",
    "    \n",
    "    #url to fetch data from foursquare api\n",
    "    url = 'https://api.foursquare.com/v2/venues/explore?&client_id={}&client_secret={}&v={}&ll={},{}&radius={}&limit={}'.format(\n",
    "            CLIENT_ID, \n",
    "            CLIENT_SECRET, \n",
    "            VERSION)\n",
    "    \n",
    "    # get all the data\n",
    "    results = requests.get(url).json()\n",
    "    venue_data=results['response']['venue']\n",
    "    venue_details=[]\n",
    "    try:\n",
    "        venue_id=venue_data['id']\n",
    "        venue_name=venue_data['name']\n",
    "        venue_likes=venue_data['likes']['count']\n",
    "        venue_rating=venue_data['rating']\n",
    "        venue_tips=venue_data['tips']['count']\n",
    "        venue_details.append([venue_id,venue_name,venue_likes,venue_rating,venue_tips])\n",
    "    except KeyError:\n",
    "        pass\n",
    "        \n",
    "    column_names=['ID','Name','Likes','Rating','Tips']\n",
    "    df = pd.DataFrame(venue_details,columns=column_names)\n",
    "    return df"
   ]
  },
  {
   "cell_type": "markdown",
   "metadata": {},
   "source": [
    "Now we define a funtion to get the new york city data such as Boroughs, Neighborhoods along with their latitude and longitude."
   ]
  },
  {
   "cell_type": "code",
   "execution_count": 221,
   "metadata": {},
   "outputs": [],
   "source": [
    "def get_new_york_data():\n",
    "    url='https://cocl.us/new_york_dataset'\n",
    "    resp=requests.get(url).json()\n",
    "    # all data is present in features label\n",
    "    features=resp['features']\n",
    "    \n",
    "    # define the dataframe columns\n",
    "    column_names = ['Borough', 'Neighborhood', 'Latitude', 'Longitude'] \n",
    "    # instantiate the dataframe\n",
    "    new_york_data = pd.DataFrame(columns=column_names)\n",
    "    \n",
    "    for data in features:\n",
    "        borough = data['properties']['borough'] \n",
    "        neighborhood_name = data['properties']['name']\n",
    "        \n",
    "        neighborhood_latlon = data['geometry']['coordinates']\n",
    "        neighborhood_lat = neighborhood_latlon[1]\n",
    "        neighborhood_lon = neighborhood_latlon[0]\n",
    "    \n",
    "        new_york_data = new_york_data.append({'Borough': borough,\n",
    "                                          'Neighborhood': neighborhood_name,\n",
    "                                          'Latitude': neighborhood_lat,\n",
    "                                          'Longitude': neighborhood_lon}, ignore_index=True)\n",
    "    \n",
    "    return new_york_data"
   ]
  },
  {
   "cell_type": "markdown",
   "metadata": {},
   "source": [
    "We will call the above funtion to get the new york city data."
   ]
  },
  {
   "cell_type": "code",
   "execution_count": 222,
   "metadata": {},
   "outputs": [],
   "source": [
    "# get new york data\n",
    "new_york_data=get_new_york_data()"
   ]
  },
  {
   "cell_type": "code",
   "execution_count": 223,
   "metadata": {},
   "outputs": [
    {
     "data": {
      "text/html": [
       "<div>\n",
       "<style scoped>\n",
       "    .dataframe tbody tr th:only-of-type {\n",
       "        vertical-align: middle;\n",
       "    }\n",
       "\n",
       "    .dataframe tbody tr th {\n",
       "        vertical-align: top;\n",
       "    }\n",
       "\n",
       "    .dataframe thead th {\n",
       "        text-align: right;\n",
       "    }\n",
       "</style>\n",
       "<table border=\"1\" class=\"dataframe\">\n",
       "  <thead>\n",
       "    <tr style=\"text-align: right;\">\n",
       "      <th></th>\n",
       "      <th>Borough</th>\n",
       "      <th>Neighborhood</th>\n",
       "      <th>Latitude</th>\n",
       "      <th>Longitude</th>\n",
       "    </tr>\n",
       "  </thead>\n",
       "  <tbody>\n",
       "    <tr>\n",
       "      <th>0</th>\n",
       "      <td>Bronx</td>\n",
       "      <td>Wakefield</td>\n",
       "      <td>40.894705</td>\n",
       "      <td>-73.847201</td>\n",
       "    </tr>\n",
       "    <tr>\n",
       "      <th>1</th>\n",
       "      <td>Bronx</td>\n",
       "      <td>Co-op City</td>\n",
       "      <td>40.874294</td>\n",
       "      <td>-73.829939</td>\n",
       "    </tr>\n",
       "    <tr>\n",
       "      <th>2</th>\n",
       "      <td>Bronx</td>\n",
       "      <td>Eastchester</td>\n",
       "      <td>40.887556</td>\n",
       "      <td>-73.827806</td>\n",
       "    </tr>\n",
       "    <tr>\n",
       "      <th>3</th>\n",
       "      <td>Bronx</td>\n",
       "      <td>Fieldston</td>\n",
       "      <td>40.895437</td>\n",
       "      <td>-73.905643</td>\n",
       "    </tr>\n",
       "    <tr>\n",
       "      <th>4</th>\n",
       "      <td>Bronx</td>\n",
       "      <td>Riverdale</td>\n",
       "      <td>40.890834</td>\n",
       "      <td>-73.912585</td>\n",
       "    </tr>\n",
       "  </tbody>\n",
       "</table>\n",
       "</div>"
      ],
      "text/plain": [
       "  Borough Neighborhood   Latitude  Longitude\n",
       "0   Bronx    Wakefield  40.894705 -73.847201\n",
       "1   Bronx   Co-op City  40.874294 -73.829939\n",
       "2   Bronx  Eastchester  40.887556 -73.827806\n",
       "3   Bronx    Fieldston  40.895437 -73.905643\n",
       "4   Bronx    Riverdale  40.890834 -73.912585"
      ]
     },
     "execution_count": 223,
     "metadata": {},
     "output_type": "execute_result"
    }
   ],
   "source": [
    "new_york_data.head()"
   ]
  },
  {
   "cell_type": "code",
   "execution_count": 224,
   "metadata": {},
   "outputs": [
    {
     "data": {
      "text/plain": [
       "(306, 4)"
      ]
     },
     "execution_count": 224,
     "metadata": {},
     "output_type": "execute_result"
    }
   ],
   "source": [
    "new_york_data.shape"
   ]
  },
  {
   "cell_type": "markdown",
   "metadata": {},
   "source": [
    "So there are total of 306 different Neighborhoods in New York"
   ]
  },
  {
   "cell_type": "code",
   "execution_count": 225,
   "metadata": {},
   "outputs": [
    {
     "data": {
      "image/png": "[encoded data removed]",
      "text/plain": [
       "<Figure size 900x500 with 1 Axes>"
      ]
     },
     "metadata": {
      "needs_background": "light"
     },
     "output_type": "display_data"
    }
   ],
   "source": [
    "plt.figure(figsize=(9,5), dpi = 100)\n",
    "# title\n",
    "plt.title('Number of Neighborhood for each Borough in New York City')\n",
    "#On x-axis\n",
    "plt.xlabel('Borough', fontsize = 15)\n",
    "#On y-axis\n",
    "plt.ylabel('No.of Neighborhood', fontsize=15)\n",
    "#giving a bar plot\n",
    "new_york_data.groupby('Borough')['Neighborhood'].count().plot(kind='bar')\n",
    "#legend\n",
    "plt.legend()\n",
    "#displays the plot\n",
    "plt.show()"
   ]
  },
  {
   "cell_type": "markdown",
   "metadata": {},
   "source": [
    "We see that Queens has highest number of neighborhoods"
   ]
  },
  {
   "cell_type": "markdown",
   "metadata": {},
   "source": [
    "Now we will collect Turkish resturants for each Neighborhood"
   ]
  },
  {
   "cell_type": "code",
   "execution_count": 178,
   "metadata": {},
   "outputs": [
    {
     "name": "stdout",
     "output_type": "stream",
     "text": [
      "( 1 / 306 ) Turkish Resturants in Wakefield, Bronx:0\n",
      "( 2 / 306 ) Turkish Resturants in Co-op City, Bronx:0\n",
      "( 3 / 306 ) Turkish Resturants in Eastchester, Bronx:0\n",
      "( 4 / 306 ) Turkish Resturants in Fieldston, Bronx:0\n",
      "( 5 / 306 ) Turkish Resturants in Riverdale, Bronx:0\n",
      "( 6 / 306 ) Turkish Resturants in Kingsbridge, Bronx:0\n",
      "( 7 / 306 ) Turkish Resturants in Marble Hill, Manhattan:0\n",
      "( 8 / 306 ) Turkish Resturants in Woodlawn, Bronx:0\n",
      "( 9 / 306 ) Turkish Resturants in Norwood, Bronx:0\n",
      "( 10 / 306 ) Turkish Resturants in Williamsbridge, Bronx:0\n",
      "( 11 / 306 ) Turkish Resturants in Baychester, Bronx:0\n",
      "( 12 / 306 ) Turkish Resturants in Pelham Parkway, Bronx:0\n",
      "( 13 / 306 ) Turkish Resturants in City Island, Bronx:0\n",
      "( 14 / 306 ) Turkish Resturants in Bedford Park, Bronx:0\n",
      "( 15 / 306 ) Turkish Resturants in University Heights, Bronx:0\n",
      "( 16 / 306 ) Turkish Resturants in Morris Heights, Bronx:0\n",
      "( 17 / 306 ) Turkish Resturants in Fordham, Bronx:0\n",
      "( 18 / 306 ) Turkish Resturants in East Tremont, Bronx:0\n",
      "( 19 / 306 ) Turkish Resturants in West Farms, Bronx:0\n",
      "( 20 / 306 ) Turkish Resturants in High  Bridge, Bronx:0\n",
      "( 21 / 306 ) Turkish Resturants in Melrose, Bronx:0\n",
      "( 22 / 306 ) Turkish Resturants in Mott Haven, Bronx:0\n",
      "( 23 / 306 ) Turkish Resturants in Port Morris, Bronx:0\n",
      "( 24 / 306 ) Turkish Resturants in Longwood, Bronx:0\n",
      "( 25 / 306 ) Turkish Resturants in Hunts Point, Bronx:0\n",
      "( 26 / 306 ) Turkish Resturants in Morrisania, Bronx:0\n",
      "( 27 / 306 ) Turkish Resturants in Soundview, Bronx:0\n",
      "( 28 / 306 ) Turkish Resturants in Clason Point, Bronx:0\n",
      "( 29 / 306 ) Turkish Resturants in Throgs Neck, Bronx:0\n",
      "( 30 / 306 ) Turkish Resturants in Country Club, Bronx:0\n",
      "( 31 / 306 ) Turkish Resturants in Parkchester, Bronx:0\n",
      "( 32 / 306 ) Turkish Resturants in Westchester Square, Bronx:0\n",
      "( 33 / 306 ) Turkish Resturants in Van Nest, Bronx:0\n",
      "( 34 / 306 ) Turkish Resturants in Morris Park, Bronx:0\n",
      "( 35 / 306 ) Turkish Resturants in Belmont, Bronx:0\n",
      "( 36 / 306 ) Turkish Resturants in Spuyten Duyvil, Bronx:0\n",
      "( 37 / 306 ) Turkish Resturants in North Riverdale, Bronx:0\n",
      "( 38 / 306 ) Turkish Resturants in Pelham Bay, Bronx:0\n",
      "( 39 / 306 ) Turkish Resturants in Schuylerville, Bronx:0\n",
      "( 40 / 306 ) Turkish Resturants in Edgewater Park, Bronx:0\n",
      "( 41 / 306 ) Turkish Resturants in Castle Hill, Bronx:0\n",
      "( 42 / 306 ) Turkish Resturants in Olinville, Bronx:0\n",
      "( 43 / 306 ) Turkish Resturants in Pelham Gardens, Bronx:0\n",
      "( 44 / 306 ) Turkish Resturants in Concourse, Bronx:0\n",
      "( 45 / 306 ) Turkish Resturants in Unionport, Bronx:0\n",
      "( 46 / 306 ) Turkish Resturants in Edenwald, Bronx:0\n",
      "( 47 / 306 ) Turkish Resturants in Bay Ridge, Brooklyn:2\n",
      "( 48 / 306 ) Turkish Resturants in Bensonhurst, Brooklyn:0\n",
      "( 49 / 306 ) Turkish Resturants in Sunset Park, Brooklyn:0\n",
      "( 50 / 306 ) Turkish Resturants in Greenpoint, Brooklyn:0\n",
      "( 51 / 306 ) Turkish Resturants in Gravesend, Brooklyn:1\n",
      "( 52 / 306 ) Turkish Resturants in Brighton Beach, Brooklyn:0\n",
      "( 53 / 306 ) Turkish Resturants in Sheepshead Bay, Brooklyn:4\n",
      "( 54 / 306 ) Turkish Resturants in Manhattan Terrace, Brooklyn:1\n",
      "( 55 / 306 ) Turkish Resturants in Flatbush, Brooklyn:0\n",
      "( 56 / 306 ) Turkish Resturants in Crown Heights, Brooklyn:0\n",
      "( 57 / 306 ) Turkish Resturants in East Flatbush, Brooklyn:0\n",
      "( 58 / 306 ) Turkish Resturants in Kensington, Brooklyn:0\n",
      "( 59 / 306 ) Turkish Resturants in Windsor Terrace, Brooklyn:0\n",
      "( 60 / 306 ) Turkish Resturants in Prospect Heights, Brooklyn:0\n",
      "( 61 / 306 ) Turkish Resturants in Brownsville, Brooklyn:0\n",
      "( 62 / 306 ) Turkish Resturants in Williamsburg, Brooklyn:0\n",
      "( 63 / 306 ) Turkish Resturants in Bushwick, Brooklyn:1\n",
      "( 64 / 306 ) Turkish Resturants in Bedford Stuyvesant, Brooklyn:0\n",
      "( 65 / 306 ) Turkish Resturants in Brooklyn Heights, Brooklyn:0\n",
      "( 66 / 306 ) Turkish Resturants in Cobble Hill, Brooklyn:0\n",
      "( 67 / 306 ) Turkish Resturants in Carroll Gardens, Brooklyn:0\n",
      "( 68 / 306 ) Turkish Resturants in Red Hook, Brooklyn:0\n",
      "( 69 / 306 ) Turkish Resturants in Gowanus, Brooklyn:0\n",
      "( 70 / 306 ) Turkish Resturants in Fort Greene, Brooklyn:0\n",
      "( 71 / 306 ) Turkish Resturants in Park Slope, Brooklyn:1\n",
      "( 72 / 306 ) Turkish Resturants in Cypress Hills, Brooklyn:0\n",
      "( 73 / 306 ) Turkish Resturants in East New York, Brooklyn:0\n",
      "( 74 / 306 ) Turkish Resturants in Starrett City, Brooklyn:0\n",
      "( 75 / 306 ) Turkish Resturants in Canarsie, Brooklyn:0\n",
      "( 76 / 306 ) Turkish Resturants in Flatlands, Brooklyn:0\n",
      "( 77 / 306 ) Turkish Resturants in Mill Island, Brooklyn:0\n",
      "( 78 / 306 ) Turkish Resturants in Manhattan Beach, Brooklyn:4\n",
      "( 79 / 306 ) Turkish Resturants in Coney Island, Brooklyn:0\n",
      "( 80 / 306 ) Turkish Resturants in Bath Beach, Brooklyn:1\n",
      "( 81 / 306 ) Turkish Resturants in Borough Park, Brooklyn:0\n",
      "( 82 / 306 ) Turkish Resturants in Dyker Heights, Brooklyn:1\n",
      "( 83 / 306 ) Turkish Resturants in Gerritsen Beach, Brooklyn:0\n",
      "( 84 / 306 ) Turkish Resturants in Marine Park, Brooklyn:0\n",
      "( 85 / 306 ) Turkish Resturants in Clinton Hill, Brooklyn:0\n",
      "( 86 / 306 ) Turkish Resturants in Sea Gate, Brooklyn:0\n",
      "( 87 / 306 ) Turkish Resturants in Downtown, Brooklyn:0\n",
      "( 88 / 306 ) Turkish Resturants in Boerum Hill, Brooklyn:0\n",
      "( 89 / 306 ) Turkish Resturants in Prospect Lefferts Gardens, Brooklyn:0\n",
      "( 90 / 306 ) Turkish Resturants in Ocean Hill, Brooklyn:0\n",
      "( 91 / 306 ) Turkish Resturants in City Line, Brooklyn:0\n",
      "( 92 / 306 ) Turkish Resturants in Bergen Beach, Brooklyn:0\n",
      "( 93 / 306 ) Turkish Resturants in Midwood, Brooklyn:0\n",
      "( 94 / 306 ) Turkish Resturants in Prospect Park South, Brooklyn:0\n",
      "( 95 / 306 ) Turkish Resturants in Georgetown, Brooklyn:0\n",
      "( 96 / 306 ) Turkish Resturants in East Williamsburg, Brooklyn:0\n",
      "( 97 / 306 ) Turkish Resturants in North Side, Brooklyn:0\n",
      "( 98 / 306 ) Turkish Resturants in South Side, Brooklyn:0\n",
      "( 99 / 306 ) Turkish Resturants in Ocean Parkway, Brooklyn:1\n",
      "( 100 / 306 ) Turkish Resturants in Fort Hamilton, Brooklyn:0\n",
      "( 101 / 306 ) Turkish Resturants in Chinatown, Manhattan:0\n",
      "( 102 / 306 ) Turkish Resturants in Washington Heights, Manhattan:0\n",
      "( 103 / 306 ) Turkish Resturants in Inwood, Manhattan:0\n",
      "( 104 / 306 ) Turkish Resturants in Hamilton Heights, Manhattan:0\n",
      "( 105 / 306 ) Turkish Resturants in Manhattanville, Manhattan:0\n",
      "( 106 / 306 ) Turkish Resturants in Central Harlem, Manhattan:0\n",
      "( 107 / 306 ) Turkish Resturants in East Harlem, Manhattan:0\n",
      "( 108 / 306 ) Turkish Resturants in Upper East Side, Manhattan:0\n",
      "( 109 / 306 ) Turkish Resturants in Yorkville, Manhattan:1\n",
      "( 110 / 306 ) Turkish Resturants in Lenox Hill, Manhattan:1\n",
      "( 111 / 306 ) Turkish Resturants in Roosevelt Island, Manhattan:0\n",
      "( 112 / 306 ) Turkish Resturants in Upper West Side, Manhattan:1\n",
      "( 113 / 306 ) Turkish Resturants in Lincoln Square, Manhattan:0\n",
      "( 114 / 306 ) Turkish Resturants in Clinton, Manhattan:0\n",
      "( 115 / 306 ) Turkish Resturants in Midtown, Manhattan:0\n",
      "( 116 / 306 ) Turkish Resturants in Murray Hill, Manhattan:0\n",
      "( 117 / 306 ) Turkish Resturants in Chelsea, Manhattan:0\n",
      "( 118 / 306 ) Turkish Resturants in Greenwich Village, Manhattan:0\n",
      "( 119 / 306 ) Turkish Resturants in East Village, Manhattan:0\n",
      "( 120 / 306 ) Turkish Resturants in Lower East Side, Manhattan:0\n",
      "( 121 / 306 ) Turkish Resturants in Tribeca, Manhattan:0\n",
      "( 122 / 306 ) Turkish Resturants in Little Italy, Manhattan:0\n",
      "( 123 / 306 ) Turkish Resturants in Soho, Manhattan:0\n",
      "( 124 / 306 ) Turkish Resturants in West Village, Manhattan:0\n",
      "( 125 / 306 ) Turkish Resturants in Manhattan Valley, Manhattan:0\n",
      "( 126 / 306 ) Turkish Resturants in Morningside Heights, Manhattan:0\n",
      "( 127 / 306 ) Turkish Resturants in Gramercy, Manhattan:0\n",
      "( 128 / 306 ) Turkish Resturants in Battery Park City, Manhattan:0\n",
      "( 129 / 306 ) Turkish Resturants in Financial District, Manhattan:0\n",
      "( 130 / 306 ) Turkish Resturants in Astoria, Queens:0\n",
      "( 131 / 306 ) Turkish Resturants in Woodside, Queens:0\n",
      "( 132 / 306 ) Turkish Resturants in Jackson Heights, Queens:0\n",
      "( 133 / 306 ) Turkish Resturants in Elmhurst, Queens:0\n",
      "( 134 / 306 ) Turkish Resturants in Howard Beach, Queens:0\n",
      "( 135 / 306 ) Turkish Resturants in Corona, Queens:0\n",
      "( 136 / 306 ) Turkish Resturants in Forest Hills, Queens:0\n",
      "( 137 / 306 ) Turkish Resturants in Kew Gardens, Queens:0\n",
      "( 138 / 306 ) Turkish Resturants in Richmond Hill, Queens:0\n",
      "( 139 / 306 ) Turkish Resturants in Flushing, Queens:0\n",
      "( 140 / 306 ) Turkish Resturants in Long Island City, Queens:0\n",
      "( 141 / 306 ) Turkish Resturants in Sunnyside, Queens:3\n",
      "( 142 / 306 ) Turkish Resturants in East Elmhurst, Queens:0\n",
      "( 143 / 306 ) Turkish Resturants in Maspeth, Queens:0\n",
      "( 144 / 306 ) Turkish Resturants in Ridgewood, Queens:0\n",
      "( 145 / 306 ) Turkish Resturants in Glendale, Queens:0\n",
      "( 146 / 306 ) Turkish Resturants in Rego Park, Queens:0\n",
      "( 147 / 306 ) Turkish Resturants in Woodhaven, Queens:0\n",
      "( 148 / 306 ) Turkish Resturants in Ozone Park, Queens:0\n",
      "( 149 / 306 ) Turkish Resturants in South Ozone Park, Queens:0\n",
      "( 150 / 306 ) Turkish Resturants in College Point, Queens:0\n",
      "( 151 / 306 ) Turkish Resturants in Whitestone, Queens:0\n",
      "( 152 / 306 ) Turkish Resturants in Bayside, Queens:0\n",
      "( 153 / 306 ) Turkish Resturants in Auburndale, Queens:0\n",
      "( 154 / 306 ) Turkish Resturants in Little Neck, Queens:0\n",
      "( 155 / 306 ) Turkish Resturants in Douglaston, Queens:0\n",
      "( 156 / 306 ) Turkish Resturants in Glen Oaks, Queens:0\n",
      "( 157 / 306 ) Turkish Resturants in Bellerose, Queens:0\n",
      "( 158 / 306 ) Turkish Resturants in Kew Gardens Hills, Queens:0\n",
      "( 159 / 306 ) Turkish Resturants in Fresh Meadows, Queens:0\n",
      "( 160 / 306 ) Turkish Resturants in Briarwood, Queens:0\n",
      "( 161 / 306 ) Turkish Resturants in Jamaica Center, Queens:0\n",
      "( 162 / 306 ) Turkish Resturants in Oakland Gardens, Queens:0\n",
      "( 163 / 306 ) Turkish Resturants in Queens Village, Queens:0\n",
      "( 164 / 306 ) Turkish Resturants in Hollis, Queens:0\n",
      "( 165 / 306 ) Turkish Resturants in South Jamaica, Queens:0\n",
      "( 166 / 306 ) Turkish Resturants in St. Albans, Queens:0\n",
      "( 167 / 306 ) Turkish Resturants in Rochdale, Queens:0\n",
      "( 168 / 306 ) Turkish Resturants in Springfield Gardens, Queens:0\n",
      "( 169 / 306 ) Turkish Resturants in Cambria Heights, Queens:0\n",
      "( 170 / 306 ) Turkish Resturants in Rosedale, Queens:0\n",
      "( 171 / 306 ) Turkish Resturants in Far Rockaway, Queens:0\n",
      "( 172 / 306 ) Turkish Resturants in Broad Channel, Queens:0\n",
      "( 173 / 306 ) Turkish Resturants in Breezy Point, Queens:0\n",
      "( 174 / 306 ) Turkish Resturants in Steinway, Queens:1\n",
      "( 175 / 306 ) Turkish Resturants in Beechhurst, Queens:0\n",
      "( 176 / 306 ) Turkish Resturants in Bay Terrace, Queens:0\n",
      "( 177 / 306 ) Turkish Resturants in Edgemere, Queens:0\n",
      "( 178 / 306 ) Turkish Resturants in Arverne, Queens:0\n",
      "( 179 / 306 ) Turkish Resturants in Rockaway Beach, Queens:0\n",
      "( 180 / 306 ) Turkish Resturants in Neponsit, Queens:0\n",
      "( 181 / 306 ) Turkish Resturants in Murray Hill, Queens:0\n",
      "( 182 / 306 ) Turkish Resturants in Floral Park, Queens:0\n",
      "( 183 / 306 ) Turkish Resturants in Holliswood, Queens:0\n",
      "( 184 / 306 ) Turkish Resturants in Jamaica Estates, Queens:0\n",
      "( 185 / 306 ) Turkish Resturants in Queensboro Hill, Queens:0\n",
      "( 186 / 306 ) Turkish Resturants in Hillcrest, Queens:0\n",
      "( 187 / 306 ) Turkish Resturants in Ravenswood, Queens:1\n",
      "( 188 / 306 ) Turkish Resturants in Lindenwood, Queens:0\n",
      "( 189 / 306 ) Turkish Resturants in Laurelton, Queens:0\n",
      "( 190 / 306 ) Turkish Resturants in Lefrak City, Queens:0\n",
      "( 191 / 306 ) Turkish Resturants in Belle Harbor, Queens:0\n",
      "( 192 / 306 ) Turkish Resturants in Rockaway Park, Queens:0\n",
      "( 193 / 306 ) Turkish Resturants in Somerville, Queens:0\n",
      "( 194 / 306 ) Turkish Resturants in Brookville, Queens:0\n",
      "( 195 / 306 ) Turkish Resturants in Bellaire, Queens:0\n",
      "( 196 / 306 ) Turkish Resturants in North Corona, Queens:0\n",
      "( 197 / 306 ) Turkish Resturants in Forest Hills Gardens, Queens:2\n",
      "( 198 / 306 ) Turkish Resturants in St. George, Staten Island:0\n",
      "( 199 / 306 ) Turkish Resturants in New Brighton, Staten Island:0\n",
      "( 200 / 306 ) Turkish Resturants in Stapleton, Staten Island:0\n",
      "( 201 / 306 ) Turkish Resturants in Rosebank, Staten Island:0\n",
      "( 202 / 306 ) Turkish Resturants in West Brighton, Staten Island:0\n",
      "( 203 / 306 ) Turkish Resturants in Grymes Hill, Staten Island:0\n",
      "( 204 / 306 ) Turkish Resturants in Todt Hill, Staten Island:0\n",
      "( 205 / 306 ) Turkish Resturants in South Beach, Staten Island:0\n",
      "( 206 / 306 ) Turkish Resturants in Port Richmond, Staten Island:0\n",
      "( 207 / 306 ) Turkish Resturants in Mariner's Harbor, Staten Island:0\n",
      "( 208 / 306 ) Turkish Resturants in Port Ivory, Staten Island:0\n",
      "( 209 / 306 ) Turkish Resturants in Castleton Corners, Staten Island:0\n",
      "( 210 / 306 ) Turkish Resturants in New Springville, Staten Island:0\n",
      "( 211 / 306 ) Turkish Resturants in Travis, Staten Island:0\n",
      "( 212 / 306 ) Turkish Resturants in New Dorp, Staten Island:0\n",
      "( 213 / 306 ) Turkish Resturants in Oakwood, Staten Island:0\n",
      "( 214 / 306 ) Turkish Resturants in Great Kills, Staten Island:0\n",
      "( 215 / 306 ) Turkish Resturants in Eltingville, Staten Island:0\n",
      "( 216 / 306 ) Turkish Resturants in Annadale, Staten Island:0\n",
      "( 217 / 306 ) Turkish Resturants in Woodrow, Staten Island:0\n",
      "( 218 / 306 ) Turkish Resturants in Tottenville, Staten Island:0\n",
      "( 219 / 306 ) Turkish Resturants in Tompkinsville, Staten Island:0\n",
      "( 220 / 306 ) Turkish Resturants in Silver Lake, Staten Island:0\n",
      "( 221 / 306 ) Turkish Resturants in Sunnyside, Staten Island:0\n",
      "( 222 / 306 ) Turkish Resturants in Ditmas Park, Brooklyn:0\n",
      "( 223 / 306 ) Turkish Resturants in Wingate, Brooklyn:0\n",
      "( 224 / 306 ) Turkish Resturants in Rugby, Brooklyn:0\n",
      "( 225 / 306 ) Turkish Resturants in Park Hill, Staten Island:0\n",
      "( 226 / 306 ) Turkish Resturants in Westerleigh, Staten Island:0\n",
      "( 227 / 306 ) Turkish Resturants in Graniteville, Staten Island:0\n",
      "( 228 / 306 ) Turkish Resturants in Arlington, Staten Island:0\n",
      "( 229 / 306 ) Turkish Resturants in Arrochar, Staten Island:0\n",
      "( 230 / 306 ) Turkish Resturants in Grasmere, Staten Island:0\n",
      "( 231 / 306 ) Turkish Resturants in Old Town, Staten Island:0\n",
      "( 232 / 306 ) Turkish Resturants in Dongan Hills, Staten Island:0\n",
      "( 233 / 306 ) Turkish Resturants in Midland Beach, Staten Island:0\n",
      "( 234 / 306 ) Turkish Resturants in Grant City, Staten Island:0\n",
      "( 235 / 306 ) Turkish Resturants in New Dorp Beach, Staten Island:0\n",
      "( 236 / 306 ) Turkish Resturants in Bay Terrace, Staten Island:0\n",
      "( 237 / 306 ) Turkish Resturants in Huguenot, Staten Island:0\n",
      "( 238 / 306 ) Turkish Resturants in Pleasant Plains, Staten Island:0\n",
      "( 239 / 306 ) Turkish Resturants in Butler Manor, Staten Island:0\n",
      "( 240 / 306 ) Turkish Resturants in Charleston, Staten Island:0\n",
      "( 241 / 306 ) Turkish Resturants in Rossville, Staten Island:0\n",
      "( 242 / 306 ) Turkish Resturants in Arden Heights, Staten Island:0\n",
      "( 243 / 306 ) Turkish Resturants in Greenridge, Staten Island:0\n",
      "( 244 / 306 ) Turkish Resturants in Heartland Village, Staten Island:0\n",
      "( 245 / 306 ) Turkish Resturants in Chelsea, Staten Island:0\n",
      "( 246 / 306 ) Turkish Resturants in Bloomfield, Staten Island:0\n",
      "( 247 / 306 ) Turkish Resturants in Bulls Head, Staten Island:0\n",
      "( 248 / 306 ) Turkish Resturants in Carnegie Hill, Manhattan:0\n",
      "( 249 / 306 ) Turkish Resturants in Noho, Manhattan:0\n",
      "( 250 / 306 ) Turkish Resturants in Civic Center, Manhattan:0\n",
      "( 251 / 306 ) Turkish Resturants in Midtown South, Manhattan:0\n",
      "( 252 / 306 ) Turkish Resturants in Richmond Town, Staten Island:0\n",
      "( 253 / 306 ) Turkish Resturants in Shore Acres, Staten Island:0\n",
      "( 254 / 306 ) Turkish Resturants in Clifton, Staten Island:0\n",
      "( 255 / 306 ) Turkish Resturants in Concord, Staten Island:0\n",
      "( 256 / 306 ) Turkish Resturants in Emerson Hill, Staten Island:0\n",
      "( 257 / 306 ) Turkish Resturants in Randall Manor, Staten Island:0\n",
      "( 258 / 306 ) Turkish Resturants in Howland Hook, Staten Island:0\n",
      "( 259 / 306 ) Turkish Resturants in Elm Park, Staten Island:0\n",
      "( 260 / 306 ) Turkish Resturants in Remsen Village, Brooklyn:0\n",
      "( 261 / 306 ) Turkish Resturants in New Lots, Brooklyn:0\n",
      "( 262 / 306 ) Turkish Resturants in Paerdegat Basin, Brooklyn:0\n",
      "( 263 / 306 ) Turkish Resturants in Mill Basin, Brooklyn:0\n",
      "( 264 / 306 ) Turkish Resturants in Jamaica Hills, Queens:0\n",
      "( 265 / 306 ) Turkish Resturants in Utopia, Queens:0\n",
      "( 266 / 306 ) Turkish Resturants in Pomonok, Queens:0\n",
      "( 267 / 306 ) Turkish Resturants in Astoria Heights, Queens:0\n",
      "( 268 / 306 ) Turkish Resturants in Claremont Village, Bronx:0\n",
      "( 269 / 306 ) Turkish Resturants in Concourse Village, Bronx:0\n",
      "( 270 / 306 ) Turkish Resturants in Mount Eden, Bronx:0\n",
      "( 271 / 306 ) Turkish Resturants in Mount Hope, Bronx:0\n",
      "( 272 / 306 ) Turkish Resturants in Sutton Place, Manhattan:0\n",
      "( 273 / 306 ) Turkish Resturants in Hunters Point, Queens:0\n",
      "( 274 / 306 ) Turkish Resturants in Turtle Bay, Manhattan:1\n",
      "( 275 / 306 ) Turkish Resturants in Tudor City, Manhattan:0\n",
      "( 276 / 306 ) Turkish Resturants in Stuyvesant Town, Manhattan:0\n",
      "( 277 / 306 ) Turkish Resturants in Flatiron, Manhattan:0\n",
      "( 278 / 306 ) Turkish Resturants in Sunnyside Gardens, Queens:3\n",
      "( 279 / 306 ) Turkish Resturants in Blissville, Queens:0\n",
      "( 280 / 306 ) Turkish Resturants in Fulton Ferry, Brooklyn:0\n",
      "( 281 / 306 ) Turkish Resturants in Vinegar Hill, Brooklyn:0\n",
      "( 282 / 306 ) Turkish Resturants in Weeksville, Brooklyn:0\n",
      "( 283 / 306 ) Turkish Resturants in Broadway Junction, Brooklyn:0\n",
      "( 284 / 306 ) Turkish Resturants in Dumbo, Brooklyn:0\n",
      "( 285 / 306 ) Turkish Resturants in Manor Heights, Staten Island:0\n",
      "( 286 / 306 ) Turkish Resturants in Willowbrook, Staten Island:0\n",
      "( 287 / 306 ) Turkish Resturants in Sandy Ground, Staten Island:0\n",
      "( 288 / 306 ) Turkish Resturants in Egbertville, Staten Island:0\n",
      "( 289 / 306 ) Turkish Resturants in Roxbury, Queens:0\n",
      "( 290 / 306 ) Turkish Resturants in Homecrest, Brooklyn:0\n",
      "( 291 / 306 ) Turkish Resturants in Middle Village, Queens:0\n",
      "( 292 / 306 ) Turkish Resturants in Prince's Bay, Staten Island:0\n",
      "( 293 / 306 ) Turkish Resturants in Lighthouse Hill, Staten Island:0\n",
      "( 294 / 306 ) Turkish Resturants in Richmond Valley, Staten Island:0\n",
      "( 295 / 306 ) Turkish Resturants in Malba, Queens:0\n",
      "( 296 / 306 ) Turkish Resturants in Highland Park, Brooklyn:0\n",
      "( 297 / 306 ) Turkish Resturants in Madison, Brooklyn:0\n",
      "( 298 / 306 ) Turkish Resturants in Bronxdale, Bronx:0\n",
      "( 299 / 306 ) Turkish Resturants in Allerton, Bronx:0\n",
      "( 300 / 306 ) Turkish Resturants in Kingsbridge Heights, Bronx:0\n",
      "( 301 / 306 ) Turkish Resturants in Erasmus, Brooklyn:0\n",
      "( 302 / 306 ) Turkish Resturants in Hudson Yards, Manhattan:0\n",
      "( 303 / 306 ) Turkish Resturants in Hammels, Queens:0\n",
      "( 304 / 306 ) Turkish Resturants in Bayswater, Queens:0\n",
      "( 305 / 306 ) Turkish Resturants in Queensbridge, Queens:0\n",
      "( 306 / 306 ) Turkish Resturants in Fox Hills, Staten Island:0\n"
     ]
    }
   ],
   "source": [
    "# prepare neighborhood list that contains turkish resturants\n",
    "column_names=['Borough', 'Neighborhood', 'ID','Name']\n",
    "turkish_rest_ny=pd.DataFrame(columns=column_names)\n",
    "count=1\n",
    "for row in new_york_data.values.tolist():\n",
    "    Borough, Neighborhood, Latitude, Longitude=row\n",
    "    venues = get_venues(Latitude,Longitude)\n",
    "    turkish_resturants=venues[venues['Category']=='Turkish Restaurant']   \n",
    "    print('(',count,'/',len(new_york_data),')','Turkish Resturants in '+Neighborhood+', '+Borough+':'+str(len(turkish_resturants)))\n",
    "    for resturant_detail in turkish_resturants.values.tolist():\n",
    "        id, name , category=resturant_detail\n",
    "        turkish_rest_ny = turkish_rest_ny.append({'Borough': Borough,\n",
    "                                                'Neighborhood': Neighborhood, \n",
    "                                                'ID': id,\n",
    "                                                'Name' : name\n",
    "                                               }, ignore_index=True)\n",
    "    count+=1"
   ]
  },
  {
   "cell_type": "markdown",
   "metadata": {},
   "source": [
    "Now that we have got all the turkish resturants in new york city , we will analyze it"
   ]
  },
  {
   "cell_type": "code",
   "execution_count": 226,
   "metadata": {},
   "outputs": [
    {
     "data": {
      "text/html": [
       "<div>\n",
       "<style scoped>\n",
       "    .dataframe tbody tr th:only-of-type {\n",
       "        vertical-align: middle;\n",
       "    }\n",
       "\n",
       "    .dataframe tbody tr th {\n",
       "        vertical-align: top;\n",
       "    }\n",
       "\n",
       "    .dataframe thead th {\n",
       "        text-align: right;\n",
       "    }\n",
       "</style>\n",
       "<table border=\"1\" class=\"dataframe\">\n",
       "  <thead>\n",
       "    <tr style=\"text-align: right;\">\n",
       "      <th></th>\n",
       "      <th>Borough</th>\n",
       "      <th>Neighborhood</th>\n",
       "      <th>ID</th>\n",
       "      <th>Name</th>\n",
       "    </tr>\n",
       "  </thead>\n",
       "  <tbody>\n",
       "    <tr>\n",
       "      <th>0</th>\n",
       "      <td>Brooklyn</td>\n",
       "      <td>Bay Ridge</td>\n",
       "      <td>579d3e7c498effa33c0450af</td>\n",
       "      <td>Istanbul Bay</td>\n",
       "    </tr>\n",
       "    <tr>\n",
       "      <th>1</th>\n",
       "      <td>Brooklyn</td>\n",
       "      <td>Bay Ridge</td>\n",
       "      <td>4d420ba9f0dba1cd6c752f49</td>\n",
       "      <td>Hazar Turkish Kebab</td>\n",
       "    </tr>\n",
       "    <tr>\n",
       "      <th>2</th>\n",
       "      <td>Brooklyn</td>\n",
       "      <td>Gravesend</td>\n",
       "      <td>51a2a2a3498e0d5d337f137b</td>\n",
       "      <td>Wood Spoon</td>\n",
       "    </tr>\n",
       "    <tr>\n",
       "      <th>3</th>\n",
       "      <td>Brooklyn</td>\n",
       "      <td>Sheepshead Bay</td>\n",
       "      <td>4fcbfc92e4b088c92e7e97ad</td>\n",
       "      <td>Opera Cafe Lounge</td>\n",
       "    </tr>\n",
       "    <tr>\n",
       "      <th>4</th>\n",
       "      <td>Brooklyn</td>\n",
       "      <td>Sheepshead Bay</td>\n",
       "      <td>4b1d5405f964a520d70e24e3</td>\n",
       "      <td>Liman Restaurant</td>\n",
       "    </tr>\n",
       "  </tbody>\n",
       "</table>\n",
       "</div>"
      ],
      "text/plain": [
       "    Borough    Neighborhood                        ID                 Name\n",
       "0  Brooklyn       Bay Ridge  579d3e7c498effa33c0450af         Istanbul Bay\n",
       "1  Brooklyn       Bay Ridge  4d420ba9f0dba1cd6c752f49  Hazar Turkish Kebab\n",
       "2  Brooklyn       Gravesend  51a2a2a3498e0d5d337f137b           Wood Spoon\n",
       "3  Brooklyn  Sheepshead Bay  4fcbfc92e4b088c92e7e97ad    Opera Cafe Lounge\n",
       "4  Brooklyn  Sheepshead Bay  4b1d5405f964a520d70e24e3     Liman Restaurant"
      ]
     },
     "execution_count": 226,
     "metadata": {},
     "output_type": "execute_result"
    }
   ],
   "source": [
    "turkish_rest_ny.head()"
   ]
  },
  {
   "cell_type": "code",
   "execution_count": 227,
   "metadata": {},
   "outputs": [
    {
     "data": {
      "text/plain": [
       "(31, 4)"
      ]
     },
     "execution_count": 227,
     "metadata": {},
     "output_type": "execute_result"
    }
   ],
   "source": [
    "turkish_rest_ny.shape"
   ]
  },
  {
   "cell_type": "markdown",
   "metadata": {},
   "source": [
    "We got __31__ Turkish Resturants across New York City"
   ]
  },
  {
   "cell_type": "code",
   "execution_count": 228,
   "metadata": {
    "scrolled": true
   },
   "outputs": [
    {
     "data": {
      "image/png": "[encoded data removed]",
      "text/plain": [
       "<Figure size 432x288 with 1 Axes>"
      ]
     },
     "metadata": {
      "needs_background": "light"
     },
     "output_type": "display_data"
    }
   ],
   "source": [
    "# title\n",
    "plt.title('Number of Turkish Resturants for each Borough in New York City')\n",
    "#On x-axis\n",
    "plt.xlabel('Borough', fontsize = 15)\n",
    "#On y-axis\n",
    "plt.ylabel('No.of Turkish Resturants', fontsize=15)\n",
    "#giving a bar plot\n",
    "turkish_rest_ny.groupby('Borough')['ID'].count().plot(kind='bar')\n",
    "#legend\n",
    "plt.legend()\n",
    "#displays the plot\n",
    "plt.show()"
   ]
  },
  {
   "cell_type": "markdown",
   "metadata": {},
   "source": [
    "We see that Brooklyn has the largest number of turkish resturants"
   ]
  },
  {
   "cell_type": "code",
   "execution_count": 276,
   "metadata": {},
   "outputs": [
    {
     "data": {
      "image/png": "[encoded data removed]",
      "text/plain": [
       "<Figure size 900x500 with 1 Axes>"
      ]
     },
     "metadata": {
      "needs_background": "light"
     },
     "output_type": "display_data"
    }
   ],
   "source": [
    "plt.figure(figsize=(9,5), dpi = 100)\n",
    "# title\n",
    "plt.title('Number of Turkish Resturants for each Neighborhood in New York City')\n",
    "#On x-axis\n",
    "plt.xlabel('Neighborhood', fontsize = 15)\n",
    "#On y-axis\n",
    "plt.ylabel('No.of Turkish Resturants', fontsize=15)\n",
    "#giving a bar plot\n",
    "turkish_rest_ny.groupby('Neighborhood')['ID'].count().nlargest(10).plot(kind='bar')\n",
    "#legend\n",
    "plt.legend()\n",
    "#displays the plot\n",
    "plt.show()"
   ]
  },
  {
   "cell_type": "code",
   "execution_count": 230,
   "metadata": {},
   "outputs": [
    {
     "data": {
      "text/html": [
       "<div>\n",
       "<style scoped>\n",
       "    .dataframe tbody tr th:only-of-type {\n",
       "        vertical-align: middle;\n",
       "    }\n",
       "\n",
       "    .dataframe tbody tr th {\n",
       "        vertical-align: top;\n",
       "    }\n",
       "\n",
       "    .dataframe thead th {\n",
       "        text-align: right;\n",
       "    }\n",
       "</style>\n",
       "<table border=\"1\" class=\"dataframe\">\n",
       "  <thead>\n",
       "    <tr style=\"text-align: right;\">\n",
       "      <th></th>\n",
       "      <th>Borough</th>\n",
       "      <th>Neighborhood</th>\n",
       "      <th>ID</th>\n",
       "      <th>Name</th>\n",
       "    </tr>\n",
       "  </thead>\n",
       "  <tbody>\n",
       "    <tr>\n",
       "      <th>10</th>\n",
       "      <td>Brooklyn</td>\n",
       "      <td>Manhattan Beach</td>\n",
       "      <td>4b1d5405f964a520d70e24e3</td>\n",
       "      <td>Liman Restaurant</td>\n",
       "    </tr>\n",
       "    <tr>\n",
       "      <th>11</th>\n",
       "      <td>Brooklyn</td>\n",
       "      <td>Manhattan Beach</td>\n",
       "      <td>4fcbfc92e4b088c92e7e97ad</td>\n",
       "      <td>Opera Cafe Lounge</td>\n",
       "    </tr>\n",
       "    <tr>\n",
       "      <th>12</th>\n",
       "      <td>Brooklyn</td>\n",
       "      <td>Manhattan Beach</td>\n",
       "      <td>53800e9c498e1b7adfbaaf5d</td>\n",
       "      <td>Rocca Cafe &amp; Lounge</td>\n",
       "    </tr>\n",
       "    <tr>\n",
       "      <th>13</th>\n",
       "      <td>Brooklyn</td>\n",
       "      <td>Manhattan Beach</td>\n",
       "      <td>4a986cf5f964a520f32b20e3</td>\n",
       "      <td>Istanbul Restaurant Fish &amp; Kebab</td>\n",
       "    </tr>\n",
       "  </tbody>\n",
       "</table>\n",
       "</div>"
      ],
      "text/plain": [
       "     Borough     Neighborhood                        ID  \\\n",
       "10  Brooklyn  Manhattan Beach  4b1d5405f964a520d70e24e3   \n",
       "11  Brooklyn  Manhattan Beach  4fcbfc92e4b088c92e7e97ad   \n",
       "12  Brooklyn  Manhattan Beach  53800e9c498e1b7adfbaaf5d   \n",
       "13  Brooklyn  Manhattan Beach  4a986cf5f964a520f32b20e3   \n",
       "\n",
       "                                Name  \n",
       "10                  Liman Restaurant  \n",
       "11                 Opera Cafe Lounge  \n",
       "12               Rocca Cafe & Lounge  \n",
       "13  Istanbul Restaurant Fish & Kebab  "
      ]
     },
     "execution_count": 230,
     "metadata": {},
     "output_type": "execute_result"
    }
   ],
   "source": [
    "turkish_rest_ny[turkish_rest_ny['Neighborhood']=='Manhattan Beach']"
   ]
  },
  {
   "cell_type": "markdown",
   "metadata": {},
   "source": [
    "So Mannhattan Beach in Brooklyn has the highest number of Turkish Resturants with a total count of __4__."
   ]
  },
  {
   "cell_type": "markdown",
   "metadata": {},
   "source": [
    "Now we will get the ranking of each resturant for further analysis."
   ]
  },
  {
   "cell_type": "code",
   "execution_count": 286,
   "metadata": {},
   "outputs": [
    {
     "name": "stdout",
     "output_type": "stream",
     "text": [
      "No data available for id= 579d3e7c498effa33c0450af\n",
      "( 1 / 31 ) processed\n",
      "No data available for id= 4d420ba9f0dba1cd6c752f49\n",
      "( 2 / 31 ) processed\n",
      "No data available for id= 51a2a2a3498e0d5d337f137b\n",
      "( 3 / 31 ) processed\n",
      "No data available for id= 4fcbfc92e4b088c92e7e97ad\n",
      "( 4 / 31 ) processed\n",
      "No data available for id= 4b1d5405f964a520d70e24e3\n",
      "( 5 / 31 ) processed\n",
      "No data available for id= 53800e9c498e1b7adfbaaf5d\n",
      "( 6 / 31 ) processed\n",
      "No data available for id= 4a986cf5f964a520f32b20e3\n",
      "( 7 / 31 ) processed\n",
      "No data available for id= 4a060d32f964a520b1721fe3\n",
      "( 8 / 31 ) processed\n",
      "No data available for id= 5c6f413778782c002c8e3e23\n",
      "( 9 / 31 ) processed\n",
      "No data available for id= 5b3cf64625ecca003929c841\n",
      "( 10 / 31 ) processed\n",
      "No data available for id= 4b1d5405f964a520d70e24e3\n",
      "( 11 / 31 ) processed\n",
      "No data available for id= 4fcbfc92e4b088c92e7e97ad\n",
      "( 12 / 31 ) processed\n",
      "No data available for id= 53800e9c498e1b7adfbaaf5d\n",
      "( 13 / 31 ) processed\n",
      "No data available for id= 4a986cf5f964a520f32b20e3\n",
      "( 14 / 31 ) processed\n",
      "No data available for id= 4aef96d2f964a5206fd921e3\n",
      "( 15 / 31 ) processed\n",
      "No data available for id= 579d3e7c498effa33c0450af\n",
      "( 16 / 31 ) processed\n",
      "No data available for id= 4a060d32f964a520b1721fe3\n",
      "( 17 / 31 ) processed\n",
      "No data available for id= 4e4c3209d22d10a6c5c854e0\n",
      "( 18 / 31 ) processed\n",
      "No data available for id= 4ba41023f964a520807d38e3\n",
      "( 19 / 31 ) processed\n",
      "No data available for id= 479309d9f964a520564d1fe3\n",
      "( 20 / 31 ) processed\n",
      "No data available for id= 4b08b328f964a520021123e3\n",
      "( 21 / 31 ) processed\n",
      "No data available for id= 4a75dd5af964a52076e11fe3\n",
      "( 22 / 31 ) processed\n",
      "No data available for id= 5be8a67ef870fd002c3a27a2\n",
      "( 23 / 31 ) processed\n",
      "No data available for id= 5509f620498ed000afdc1bd0\n",
      "( 24 / 31 ) processed\n",
      "No data available for id= 5cb11a0766f3cd002c371624\n",
      "( 25 / 31 ) processed\n",
      "No data available for id= 5946e1464c954c4ff506a7f7\n",
      "( 26 / 31 ) processed\n",
      "No data available for id= 4f7394b2e4b0a60ba5f52af7\n",
      "( 27 / 31 ) processed\n",
      "No data available for id= 50fc9a88e4b04cfffaebe2cf\n",
      "( 28 / 31 ) processed\n",
      "No data available for id= 4a75dd5af964a52076e11fe3\n",
      "( 29 / 31 ) processed\n",
      "No data available for id= 4b08b328f964a520021123e3\n",
      "( 30 / 31 ) processed\n",
      "No data available for id= 5be8a67ef870fd002c3a27a2\n",
      "( 31 / 31 ) processed\n"
     ]
    }
   ],
   "source": [
    "# prepare neighborhood list that contains turkish resturants\n",
    "column_names=['Borough', 'Neighborhood', 'ID','Name','Likes','Rating','Tips']\n",
    "turkish_rest_stats_ny=pd.DataFrame(columns=column_names)\n",
    "count=1\n",
    "\n",
    "\n",
    "for row in turkish_rest_ny.values.tolist():\n",
    "    Borough,Neighborhood,ID,Name=row\n",
    "    try:\n",
    "        venue_details=get_venue_details(ID)\n",
    "        print(venue_details)\n",
    "        id,name,likes,rating,tips=venue_details.values.tolist()[0]\n",
    "    except IndexError:\n",
    "        print('No data available for id=',ID)\n",
    "        # we will assign 0 value for these resturants as they may have been \n",
    "        #recently opened or details does not exist in FourSquare Database\n",
    "        id,name,likes,rating,tips=[0]*5\n",
    "    print('(',count,'/',len(turkish_rest_ny),')','processed')\n",
    "    turkish_rest_stats_ny = turkish_rest_stats_ny.append({'Borough': Borough,\n",
    "                                                'Neighborhood': Neighborhood, \n",
    "                                                'ID': id,\n",
    "                                                'Name' : name,\n",
    "                                                'Likes' : likes,\n",
    "                                                'Rating' : rating,\n",
    "                                                'Tips' : tips\n",
    "                                               }, ignore_index=True)\n",
    "    count+=1"
   ]
  },
  {
   "cell_type": "code",
   "execution_count": 287,
   "metadata": {},
   "outputs": [
    {
     "data": {
      "text/html": [
       "<div>\n",
       "<style scoped>\n",
       "    .dataframe tbody tr th:only-of-type {\n",
       "        vertical-align: middle;\n",
       "    }\n",
       "\n",
       "    .dataframe tbody tr th {\n",
       "        vertical-align: top;\n",
       "    }\n",
       "\n",
       "    .dataframe thead th {\n",
       "        text-align: right;\n",
       "    }\n",
       "</style>\n",
       "<table border=\"1\" class=\"dataframe\">\n",
       "  <thead>\n",
       "    <tr style=\"text-align: right;\">\n",
       "      <th></th>\n",
       "      <th>Borough</th>\n",
       "      <th>Neighborhood</th>\n",
       "      <th>ID</th>\n",
       "      <th>Name</th>\n",
       "      <th>Likes</th>\n",
       "      <th>Rating</th>\n",
       "      <th>Tips</th>\n",
       "    </tr>\n",
       "  </thead>\n",
       "  <tbody>\n",
       "    <tr>\n",
       "      <th>0</th>\n",
       "      <td>Brooklyn</td>\n",
       "      <td>Bay Ridge</td>\n",
       "      <td>0</td>\n",
       "      <td>0</td>\n",
       "      <td>0</td>\n",
       "      <td>0</td>\n",
       "      <td>0</td>\n",
       "    </tr>\n",
       "    <tr>\n",
       "      <th>1</th>\n",
       "      <td>Brooklyn</td>\n",
       "      <td>Bay Ridge</td>\n",
       "      <td>0</td>\n",
       "      <td>0</td>\n",
       "      <td>0</td>\n",
       "      <td>0</td>\n",
       "      <td>0</td>\n",
       "    </tr>\n",
       "    <tr>\n",
       "      <th>2</th>\n",
       "      <td>Brooklyn</td>\n",
       "      <td>Gravesend</td>\n",
       "      <td>0</td>\n",
       "      <td>0</td>\n",
       "      <td>0</td>\n",
       "      <td>0</td>\n",
       "      <td>0</td>\n",
       "    </tr>\n",
       "    <tr>\n",
       "      <th>3</th>\n",
       "      <td>Brooklyn</td>\n",
       "      <td>Sheepshead Bay</td>\n",
       "      <td>0</td>\n",
       "      <td>0</td>\n",
       "      <td>0</td>\n",
       "      <td>0</td>\n",
       "      <td>0</td>\n",
       "    </tr>\n",
       "    <tr>\n",
       "      <th>4</th>\n",
       "      <td>Brooklyn</td>\n",
       "      <td>Sheepshead Bay</td>\n",
       "      <td>0</td>\n",
       "      <td>0</td>\n",
       "      <td>0</td>\n",
       "      <td>0</td>\n",
       "      <td>0</td>\n",
       "    </tr>\n",
       "  </tbody>\n",
       "</table>\n",
       "</div>"
      ],
      "text/plain": [
       "    Borough    Neighborhood ID Name Likes Rating Tips\n",
       "0  Brooklyn       Bay Ridge  0    0     0      0    0\n",
       "1  Brooklyn       Bay Ridge  0    0     0      0    0\n",
       "2  Brooklyn       Gravesend  0    0     0      0    0\n",
       "3  Brooklyn  Sheepshead Bay  0    0     0      0    0\n",
       "4  Brooklyn  Sheepshead Bay  0    0     0      0    0"
      ]
     },
     "execution_count": 287,
     "metadata": {},
     "output_type": "execute_result"
    }
   ],
   "source": [
    "turkish_rest_stats_ny.head()"
   ]
  },
  {
   "cell_type": "code",
   "execution_count": 282,
   "metadata": {},
   "outputs": [
    {
     "data": {
      "text/plain": [
       "(31, 7)"
      ]
     },
     "execution_count": 282,
     "metadata": {},
     "output_type": "execute_result"
    }
   ],
   "source": [
    "turkish_rest_stats_ny.shape"
   ]
  },
  {
   "cell_type": "code",
   "execution_count": 283,
   "metadata": {},
   "outputs": [
    {
     "data": {
      "text/plain": [
       "(31, 4)"
      ]
     },
     "execution_count": 283,
     "metadata": {},
     "output_type": "execute_result"
    }
   ],
   "source": [
    "turkish_rest_ny.shape"
   ]
  },
  {
   "cell_type": "markdown",
   "metadata": {},
   "source": [
    "So we got data for all resturants Now lets save this data to a csv sheet. In case we by mistake modify it. As the number of calls to get details for venue are premium call and have limit of 500 per day, we will refer to saved data sheet csv if required"
   ]
  },
  {
   "cell_type": "code",
   "execution_count": 237,
   "metadata": {},
   "outputs": [],
   "source": [
    "turkish_rest_stats_ny.to_csv('turkish_rest_stats_ny.csv', index=False)\n"
   ]
  },
  {
   "cell_type": "markdown",
   "metadata": {},
   "source": [
    "Lets verify the data from saved csv file"
   ]
  },
  {
   "cell_type": "code",
   "execution_count": 238,
   "metadata": {},
   "outputs": [],
   "source": [
    "turkish_rest_stats_ny_csv=pd.read_csv('turkish_rest_stats_ny.csv')\n"
   ]
  },
  {
   "cell_type": "code",
   "execution_count": 239,
   "metadata": {},
   "outputs": [
    {
     "data": {
      "text/plain": [
       "(31, 7)"
      ]
     },
     "execution_count": 239,
     "metadata": {},
     "output_type": "execute_result"
    }
   ],
   "source": [
    "turkish_rest_stats_ny_csv.shape"
   ]
  },
  {
   "cell_type": "code",
   "execution_count": 240,
   "metadata": {},
   "outputs": [
    {
     "data": {
      "text/html": [
       "<div>\n",
       "<style scoped>\n",
       "    .dataframe tbody tr th:only-of-type {\n",
       "        vertical-align: middle;\n",
       "    }\n",
       "\n",
       "    .dataframe tbody tr th {\n",
       "        vertical-align: top;\n",
       "    }\n",
       "\n",
       "    .dataframe thead th {\n",
       "        text-align: right;\n",
       "    }\n",
       "</style>\n",
       "<table border=\"1\" class=\"dataframe\">\n",
       "  <thead>\n",
       "    <tr style=\"text-align: right;\">\n",
       "      <th></th>\n",
       "      <th>Borough</th>\n",
       "      <th>Neighborhood</th>\n",
       "      <th>ID</th>\n",
       "      <th>Name</th>\n",
       "      <th>Likes</th>\n",
       "      <th>Rating</th>\n",
       "      <th>Tips</th>\n",
       "    </tr>\n",
       "  </thead>\n",
       "  <tbody>\n",
       "    <tr>\n",
       "      <th>0</th>\n",
       "      <td>Brooklyn</td>\n",
       "      <td>Bay Ridge</td>\n",
       "      <td>0</td>\n",
       "      <td>0</td>\n",
       "      <td>0</td>\n",
       "      <td>0</td>\n",
       "      <td>0</td>\n",
       "    </tr>\n",
       "    <tr>\n",
       "      <th>1</th>\n",
       "      <td>Brooklyn</td>\n",
       "      <td>Bay Ridge</td>\n",
       "      <td>0</td>\n",
       "      <td>0</td>\n",
       "      <td>0</td>\n",
       "      <td>0</td>\n",
       "      <td>0</td>\n",
       "    </tr>\n",
       "    <tr>\n",
       "      <th>2</th>\n",
       "      <td>Brooklyn</td>\n",
       "      <td>Gravesend</td>\n",
       "      <td>0</td>\n",
       "      <td>0</td>\n",
       "      <td>0</td>\n",
       "      <td>0</td>\n",
       "      <td>0</td>\n",
       "    </tr>\n",
       "    <tr>\n",
       "      <th>3</th>\n",
       "      <td>Brooklyn</td>\n",
       "      <td>Sheepshead Bay</td>\n",
       "      <td>0</td>\n",
       "      <td>0</td>\n",
       "      <td>0</td>\n",
       "      <td>0</td>\n",
       "      <td>0</td>\n",
       "    </tr>\n",
       "    <tr>\n",
       "      <th>4</th>\n",
       "      <td>Brooklyn</td>\n",
       "      <td>Sheepshead Bay</td>\n",
       "      <td>0</td>\n",
       "      <td>0</td>\n",
       "      <td>0</td>\n",
       "      <td>0</td>\n",
       "      <td>0</td>\n",
       "    </tr>\n",
       "  </tbody>\n",
       "</table>\n",
       "</div>"
      ],
      "text/plain": [
       "    Borough    Neighborhood  ID  Name  Likes  Rating  Tips\n",
       "0  Brooklyn       Bay Ridge   0     0      0       0     0\n",
       "1  Brooklyn       Bay Ridge   0     0      0       0     0\n",
       "2  Brooklyn       Gravesend   0     0      0       0     0\n",
       "3  Brooklyn  Sheepshead Bay   0     0      0       0     0\n",
       "4  Brooklyn  Sheepshead Bay   0     0      0       0     0"
      ]
     },
     "execution_count": 240,
     "metadata": {},
     "output_type": "execute_result"
    }
   ],
   "source": [
    "turkish_rest_stats_ny_csv.head()"
   ]
  },
  {
   "cell_type": "code",
   "execution_count": 241,
   "metadata": {},
   "outputs": [
    {
     "name": "stdout",
     "output_type": "stream",
     "text": [
      "<class 'pandas.core.frame.DataFrame'>\n",
      "RangeIndex: 31 entries, 0 to 30\n",
      "Data columns (total 7 columns):\n",
      "Borough         31 non-null object\n",
      "Neighborhood    31 non-null object\n",
      "ID              31 non-null object\n",
      "Name            31 non-null object\n",
      "Likes           31 non-null object\n",
      "Rating          31 non-null object\n",
      "Tips            31 non-null object\n",
      "dtypes: object(7)\n",
      "memory usage: 1.8+ KB\n"
     ]
    }
   ],
   "source": [
    "turkish_rest_stats_ny.info()"
   ]
  },
  {
   "cell_type": "markdown",
   "metadata": {},
   "source": [
    "We see that values like Likes, Tips are strig values. We would need to convert them into float for further analysis"
   ]
  },
  {
   "cell_type": "code",
   "execution_count": 242,
   "metadata": {},
   "outputs": [],
   "source": [
    "turkish_rest_stats_ny['Likes']=turkish_rest_stats_ny['Likes'].astype('float64')"
   ]
  },
  {
   "cell_type": "code",
   "execution_count": 243,
   "metadata": {},
   "outputs": [],
   "source": [
    "turkish_rest_stats_ny['Rating']=turkish_rest_stats_ny['Rating'].astype('float64')"
   ]
  },
  {
   "cell_type": "code",
   "execution_count": 244,
   "metadata": {},
   "outputs": [
    {
     "name": "stdout",
     "output_type": "stream",
     "text": [
      "<class 'pandas.core.frame.DataFrame'>\n",
      "RangeIndex: 31 entries, 0 to 30\n",
      "Data columns (total 7 columns):\n",
      "Borough         31 non-null object\n",
      "Neighborhood    31 non-null object\n",
      "ID              31 non-null object\n",
      "Name            31 non-null object\n",
      "Likes           31 non-null float64\n",
      "Rating          31 non-null float64\n",
      "Tips            31 non-null object\n",
      "dtypes: float64(2), object(5)\n",
      "memory usage: 1.8+ KB\n"
     ]
    }
   ],
   "source": [
    "turkish_rest_stats_ny.info()"
   ]
  },
  {
   "cell_type": "markdown",
   "metadata": {},
   "source": [
    "Now the data types looks correct"
   ]
  },
  {
   "cell_type": "code",
   "execution_count": 245,
   "metadata": {},
   "outputs": [
    {
     "data": {
      "text/plain": [
       "Borough          Brooklyn\n",
       "Neighborhood    Bay Ridge\n",
       "ID                      0\n",
       "Name                    0\n",
       "Likes                   0\n",
       "Rating                  0\n",
       "Tips                    0\n",
       "Name: 0, dtype: object"
      ]
     },
     "execution_count": 245,
     "metadata": {},
     "output_type": "execute_result"
    }
   ],
   "source": [
    "# Resturant with maximum Likes\n",
    "turkish_rest_stats_ny.iloc[turkish_rest_stats_ny['Likes'].idxmax()]"
   ]
  },
  {
   "cell_type": "code",
   "execution_count": 246,
   "metadata": {},
   "outputs": [
    {
     "data": {
      "text/plain": [
       "Borough          Brooklyn\n",
       "Neighborhood    Bay Ridge\n",
       "ID                      0\n",
       "Name                    0\n",
       "Likes                   0\n",
       "Rating                  0\n",
       "Tips                    0\n",
       "Name: 0, dtype: object"
      ]
     },
     "execution_count": 246,
     "metadata": {},
     "output_type": "execute_result"
    }
   ],
   "source": [
    "# Resturant with maximum Rating\n",
    "turkish_rest_stats_ny.iloc[turkish_rest_stats_ny['Rating'].idxmax()]"
   ]
  },
  {
   "cell_type": "code",
   "execution_count": 247,
   "metadata": {},
   "outputs": [
    {
     "ename": "TypeError",
     "evalue": "reduction operation 'argmax' not allowed for this dtype",
     "output_type": "error",
     "traceback": [
      "\u001b[1;31m---------------------------------------------------------------------------\u001b[0m",
      "\u001b[1;31mTypeError\u001b[0m                                 Traceback (most recent call last)",
      "\u001b[1;32m<ipython-input-247-f41d9b755a19>\u001b[0m in \u001b[0;36m<module>\u001b[1;34m\u001b[0m\n\u001b[0;32m      1\u001b[0m \u001b[1;31m# Resturant with maximum Tips\u001b[0m\u001b[1;33m\u001b[0m\u001b[1;33m\u001b[0m\u001b[1;33m\u001b[0m\u001b[0m\n\u001b[1;32m----> 2\u001b[1;33m \u001b[0mturkish_rest_stats_ny\u001b[0m\u001b[1;33m.\u001b[0m\u001b[0miloc\u001b[0m\u001b[1;33m[\u001b[0m\u001b[0mturkish_rest_stats_ny\u001b[0m\u001b[1;33m[\u001b[0m\u001b[1;34m'Tips'\u001b[0m\u001b[1;33m]\u001b[0m\u001b[1;33m.\u001b[0m\u001b[0midxmax\u001b[0m\u001b[1;33m(\u001b[0m\u001b[1;33m)\u001b[0m\u001b[1;33m]\u001b[0m\u001b[1;33m\u001b[0m\u001b[1;33m\u001b[0m\u001b[0m\n\u001b[0m",
      "\u001b[1;32m~\\Anaconda3\\lib\\site-packages\\pandas\\core\\series.py\u001b[0m in \u001b[0;36midxmax\u001b[1;34m(self, axis, skipna, *args, **kwargs)\u001b[0m\n\u001b[0;32m   1949\u001b[0m         \"\"\"\n\u001b[0;32m   1950\u001b[0m         \u001b[0mskipna\u001b[0m \u001b[1;33m=\u001b[0m \u001b[0mnv\u001b[0m\u001b[1;33m.\u001b[0m\u001b[0mvalidate_argmax_with_skipna\u001b[0m\u001b[1;33m(\u001b[0m\u001b[0mskipna\u001b[0m\u001b[1;33m,\u001b[0m \u001b[0margs\u001b[0m\u001b[1;33m,\u001b[0m \u001b[0mkwargs\u001b[0m\u001b[1;33m)\u001b[0m\u001b[1;33m\u001b[0m\u001b[1;33m\u001b[0m\u001b[0m\n\u001b[1;32m-> 1951\u001b[1;33m         \u001b[0mi\u001b[0m \u001b[1;33m=\u001b[0m \u001b[0mnanops\u001b[0m\u001b[1;33m.\u001b[0m\u001b[0mnanargmax\u001b[0m\u001b[1;33m(\u001b[0m\u001b[0mcom\u001b[0m\u001b[1;33m.\u001b[0m\u001b[0mvalues_from_object\u001b[0m\u001b[1;33m(\u001b[0m\u001b[0mself\u001b[0m\u001b[1;33m)\u001b[0m\u001b[1;33m,\u001b[0m \u001b[0mskipna\u001b[0m\u001b[1;33m=\u001b[0m\u001b[0mskipna\u001b[0m\u001b[1;33m)\u001b[0m\u001b[1;33m\u001b[0m\u001b[1;33m\u001b[0m\u001b[0m\n\u001b[0m\u001b[0;32m   1952\u001b[0m         \u001b[1;32mif\u001b[0m \u001b[0mi\u001b[0m \u001b[1;33m==\u001b[0m \u001b[1;33m-\u001b[0m\u001b[1;36m1\u001b[0m\u001b[1;33m:\u001b[0m\u001b[1;33m\u001b[0m\u001b[1;33m\u001b[0m\u001b[0m\n\u001b[0;32m   1953\u001b[0m             \u001b[1;32mreturn\u001b[0m \u001b[0mnp\u001b[0m\u001b[1;33m.\u001b[0m\u001b[0mnan\u001b[0m\u001b[1;33m\u001b[0m\u001b[1;33m\u001b[0m\u001b[0m\n",
      "\u001b[1;32m~\\Anaconda3\\lib\\site-packages\\pandas\\core\\nanops.py\u001b[0m in \u001b[0;36m_f\u001b[1;34m(*args, **kwargs)\u001b[0m\n\u001b[0;32m     71\u001b[0m             \u001b[1;32mif\u001b[0m \u001b[0many\u001b[0m\u001b[1;33m(\u001b[0m\u001b[0mself\u001b[0m\u001b[1;33m.\u001b[0m\u001b[0mcheck\u001b[0m\u001b[1;33m(\u001b[0m\u001b[0mobj\u001b[0m\u001b[1;33m)\u001b[0m \u001b[1;32mfor\u001b[0m \u001b[0mobj\u001b[0m \u001b[1;32min\u001b[0m \u001b[0mobj_iter\u001b[0m\u001b[1;33m)\u001b[0m\u001b[1;33m:\u001b[0m\u001b[1;33m\u001b[0m\u001b[1;33m\u001b[0m\u001b[0m\n\u001b[0;32m     72\u001b[0m                 \u001b[0mmsg\u001b[0m \u001b[1;33m=\u001b[0m \u001b[1;34m'reduction operation {name!r} not allowed for this dtype'\u001b[0m\u001b[1;33m\u001b[0m\u001b[1;33m\u001b[0m\u001b[0m\n\u001b[1;32m---> 73\u001b[1;33m                 \u001b[1;32mraise\u001b[0m \u001b[0mTypeError\u001b[0m\u001b[1;33m(\u001b[0m\u001b[0mmsg\u001b[0m\u001b[1;33m.\u001b[0m\u001b[0mformat\u001b[0m\u001b[1;33m(\u001b[0m\u001b[0mname\u001b[0m\u001b[1;33m=\u001b[0m\u001b[0mf\u001b[0m\u001b[1;33m.\u001b[0m\u001b[0m__name__\u001b[0m\u001b[1;33m.\u001b[0m\u001b[0mreplace\u001b[0m\u001b[1;33m(\u001b[0m\u001b[1;34m'nan'\u001b[0m\u001b[1;33m,\u001b[0m \u001b[1;34m''\u001b[0m\u001b[1;33m)\u001b[0m\u001b[1;33m)\u001b[0m\u001b[1;33m)\u001b[0m\u001b[1;33m\u001b[0m\u001b[1;33m\u001b[0m\u001b[0m\n\u001b[0m\u001b[0;32m     74\u001b[0m             \u001b[1;32mtry\u001b[0m\u001b[1;33m:\u001b[0m\u001b[1;33m\u001b[0m\u001b[1;33m\u001b[0m\u001b[0m\n\u001b[0;32m     75\u001b[0m                 \u001b[1;32mwith\u001b[0m \u001b[0mnp\u001b[0m\u001b[1;33m.\u001b[0m\u001b[0merrstate\u001b[0m\u001b[1;33m(\u001b[0m\u001b[0minvalid\u001b[0m\u001b[1;33m=\u001b[0m\u001b[1;34m'ignore'\u001b[0m\u001b[1;33m)\u001b[0m\u001b[1;33m:\u001b[0m\u001b[1;33m\u001b[0m\u001b[1;33m\u001b[0m\u001b[0m\n",
      "\u001b[1;31mTypeError\u001b[0m: reduction operation 'argmax' not allowed for this dtype"
     ]
    }
   ],
   "source": [
    "# Resturant with maximum Tips\n",
    "turkish_rest_stats_ny.iloc[turkish_rest_stats_ny['Tips'].idxmax()]"
   ]
  },
  {
   "cell_type": "markdown",
   "metadata": {},
   "source": [
    "Now lets visualize neighborhood with maximum average rating of resturants"
   ]
  },
  {
   "cell_type": "code",
   "execution_count": 248,
   "metadata": {},
   "outputs": [],
   "source": [
    "ny_neighborhood_stats=turkish_rest_stats_ny.groupby('Neighborhood',as_index=False).mean()[['Neighborhood','Rating']]\n",
    "ny_neighborhood_stats.columns=['Neighborhood','Average Rating']"
   ]
  },
  {
   "cell_type": "code",
   "execution_count": 249,
   "metadata": {},
   "outputs": [
    {
     "data": {
      "text/html": [
       "<div>\n",
       "<style scoped>\n",
       "    .dataframe tbody tr th:only-of-type {\n",
       "        vertical-align: middle;\n",
       "    }\n",
       "\n",
       "    .dataframe tbody tr th {\n",
       "        vertical-align: top;\n",
       "    }\n",
       "\n",
       "    .dataframe thead th {\n",
       "        text-align: right;\n",
       "    }\n",
       "</style>\n",
       "<table border=\"1\" class=\"dataframe\">\n",
       "  <thead>\n",
       "    <tr style=\"text-align: right;\">\n",
       "      <th></th>\n",
       "      <th>Neighborhood</th>\n",
       "      <th>Average Rating</th>\n",
       "    </tr>\n",
       "  </thead>\n",
       "  <tbody>\n",
       "    <tr>\n",
       "      <th>0</th>\n",
       "      <td>Bath Beach</td>\n",
       "      <td>0.0</td>\n",
       "    </tr>\n",
       "    <tr>\n",
       "      <th>10</th>\n",
       "      <td>Park Slope</td>\n",
       "      <td>0.0</td>\n",
       "    </tr>\n",
       "    <tr>\n",
       "      <th>17</th>\n",
       "      <td>Upper West Side</td>\n",
       "      <td>0.0</td>\n",
       "    </tr>\n",
       "    <tr>\n",
       "      <th>16</th>\n",
       "      <td>Turtle Bay</td>\n",
       "      <td>0.0</td>\n",
       "    </tr>\n",
       "    <tr>\n",
       "      <th>15</th>\n",
       "      <td>Sunnyside Gardens</td>\n",
       "      <td>0.0</td>\n",
       "    </tr>\n",
       "    <tr>\n",
       "      <th>14</th>\n",
       "      <td>Sunnyside</td>\n",
       "      <td>0.0</td>\n",
       "    </tr>\n",
       "    <tr>\n",
       "      <th>13</th>\n",
       "      <td>Steinway</td>\n",
       "      <td>0.0</td>\n",
       "    </tr>\n",
       "    <tr>\n",
       "      <th>12</th>\n",
       "      <td>Sheepshead Bay</td>\n",
       "      <td>0.0</td>\n",
       "    </tr>\n",
       "    <tr>\n",
       "      <th>11</th>\n",
       "      <td>Ravenswood</td>\n",
       "      <td>0.0</td>\n",
       "    </tr>\n",
       "    <tr>\n",
       "      <th>9</th>\n",
       "      <td>Ocean Parkway</td>\n",
       "      <td>0.0</td>\n",
       "    </tr>\n",
       "  </tbody>\n",
       "</table>\n",
       "</div>"
      ],
      "text/plain": [
       "         Neighborhood  Average Rating\n",
       "0          Bath Beach             0.0\n",
       "10         Park Slope             0.0\n",
       "17    Upper West Side             0.0\n",
       "16         Turtle Bay             0.0\n",
       "15  Sunnyside Gardens             0.0\n",
       "14          Sunnyside             0.0\n",
       "13           Steinway             0.0\n",
       "12     Sheepshead Bay             0.0\n",
       "11         Ravenswood             0.0\n",
       "9       Ocean Parkway             0.0"
      ]
     },
     "execution_count": 249,
     "metadata": {},
     "output_type": "execute_result"
    }
   ],
   "source": [
    "ny_neighborhood_stats.sort_values(['Average Rating'],ascending=False).head(10)"
   ]
  },
  {
   "cell_type": "markdown",
   "metadata": {},
   "source": [
    "Above are the top neighborhoods with top average rating of Turkish resturants"
   ]
  },
  {
   "cell_type": "code",
   "execution_count": 250,
   "metadata": {},
   "outputs": [],
   "source": [
    "ny_borough_stats=turkish_rest_stats_ny.groupby('Borough',as_index=False).mean()[['Borough','Rating']]\n",
    "ny_borough_stats.columns=['Borough','Average Rating']"
   ]
  },
  {
   "cell_type": "code",
   "execution_count": 251,
   "metadata": {},
   "outputs": [
    {
     "data": {
      "text/html": [
       "<div>\n",
       "<style scoped>\n",
       "    .dataframe tbody tr th:only-of-type {\n",
       "        vertical-align: middle;\n",
       "    }\n",
       "\n",
       "    .dataframe tbody tr th {\n",
       "        vertical-align: top;\n",
       "    }\n",
       "\n",
       "    .dataframe thead th {\n",
       "        text-align: right;\n",
       "    }\n",
       "</style>\n",
       "<table border=\"1\" class=\"dataframe\">\n",
       "  <thead>\n",
       "    <tr style=\"text-align: right;\">\n",
       "      <th></th>\n",
       "      <th>Borough</th>\n",
       "      <th>Average Rating</th>\n",
       "    </tr>\n",
       "  </thead>\n",
       "  <tbody>\n",
       "    <tr>\n",
       "      <th>0</th>\n",
       "      <td>Brooklyn</td>\n",
       "      <td>0.0</td>\n",
       "    </tr>\n",
       "    <tr>\n",
       "      <th>1</th>\n",
       "      <td>Manhattan</td>\n",
       "      <td>0.0</td>\n",
       "    </tr>\n",
       "    <tr>\n",
       "      <th>2</th>\n",
       "      <td>Queens</td>\n",
       "      <td>0.0</td>\n",
       "    </tr>\n",
       "  </tbody>\n",
       "</table>\n",
       "</div>"
      ],
      "text/plain": [
       "     Borough  Average Rating\n",
       "0   Brooklyn             0.0\n",
       "1  Manhattan             0.0\n",
       "2     Queens             0.0"
      ]
     },
     "execution_count": 251,
     "metadata": {},
     "output_type": "execute_result"
    }
   ],
   "source": [
    "ny_borough_stats.sort_values(['Average Rating'],ascending=False).head()"
   ]
  },
  {
   "cell_type": "markdown",
   "metadata": {},
   "source": [
    "Similarly these are the average rating of Turkish Resturants for each Borough"
   ]
  },
  {
   "cell_type": "markdown",
   "metadata": {},
   "source": [
    "Lets visualize it"
   ]
  },
  {
   "cell_type": "code",
   "execution_count": 252,
   "metadata": {},
   "outputs": [
    {
     "data": {
      "image/png": "[encoded data removed]",
      "text/plain": [
       "<Figure size 900x500 with 1 Axes>"
      ]
     },
     "metadata": {
      "needs_background": "light"
     },
     "output_type": "display_data"
    }
   ],
   "source": [
    "plt.figure(figsize=(9,5), dpi = 100)\n",
    "# title\n",
    "plt.title('Average rating of Turkish Resturants for each Borough')\n",
    "#On x-axis\n",
    "plt.xlabel('Borough', fontsize = 15)\n",
    "#On y-axis\n",
    "plt.ylabel('Average Rating', fontsize=15)\n",
    "#giving a bar plot\n",
    "turkish_rest_stats_ny.groupby('Borough').mean()['Rating'].plot(kind='bar')\n",
    "#legend\n",
    "plt.legend()\n",
    "#displays the plot\n",
    "plt.show()"
   ]
  },
  {
   "cell_type": "markdown",
   "metadata": {},
   "source": [
    "We will consider all the neighborhoods with average rating greater or equal 9.0 to visualize on map"
   ]
  },
  {
   "cell_type": "code",
   "execution_count": 254,
   "metadata": {},
   "outputs": [],
   "source": [
    "ny_neighborhood_stats=ny_neighborhood_stats[ny_neighborhood_stats['Average Rating']>=9.0]"
   ]
  },
  {
   "cell_type": "code",
   "execution_count": 255,
   "metadata": {},
   "outputs": [
    {
     "data": {
      "text/html": [
       "<div>\n",
       "<style scoped>\n",
       "    .dataframe tbody tr th:only-of-type {\n",
       "        vertical-align: middle;\n",
       "    }\n",
       "\n",
       "    .dataframe tbody tr th {\n",
       "        vertical-align: top;\n",
       "    }\n",
       "\n",
       "    .dataframe thead th {\n",
       "        text-align: right;\n",
       "    }\n",
       "</style>\n",
       "<table border=\"1\" class=\"dataframe\">\n",
       "  <thead>\n",
       "    <tr style=\"text-align: right;\">\n",
       "      <th></th>\n",
       "      <th>Neighborhood</th>\n",
       "      <th>Average Rating</th>\n",
       "    </tr>\n",
       "  </thead>\n",
       "  <tbody>\n",
       "  </tbody>\n",
       "</table>\n",
       "</div>"
      ],
      "text/plain": [
       "Empty DataFrame\n",
       "Columns: [Neighborhood, Average Rating]\n",
       "Index: []"
      ]
     },
     "execution_count": 255,
     "metadata": {},
     "output_type": "execute_result"
    }
   ],
   "source": [
    "ny_neighborhood_stats"
   ]
  },
  {
   "cell_type": "markdown",
   "metadata": {},
   "source": [
    "We will join this dataset to original new york data to get lonitude and latitude"
   ]
  },
  {
   "cell_type": "code",
   "execution_count": 256,
   "metadata": {},
   "outputs": [],
   "source": [
    "ny_neighborhood_stats=pd.merge(ny_neighborhood_stats,new_york_data, on='Neighborhood')"
   ]
  },
  {
   "cell_type": "code",
   "execution_count": 257,
   "metadata": {},
   "outputs": [],
   "source": [
    "ny_neighborhood_stats=ny_neighborhood_stats[['Borough','Neighborhood','Latitude','Longitude','Average Rating']]"
   ]
  },
  {
   "cell_type": "code",
   "execution_count": 258,
   "metadata": {},
   "outputs": [
    {
     "data": {
      "text/html": [
       "<div>\n",
       "<style scoped>\n",
       "    .dataframe tbody tr th:only-of-type {\n",
       "        vertical-align: middle;\n",
       "    }\n",
       "\n",
       "    .dataframe tbody tr th {\n",
       "        vertical-align: top;\n",
       "    }\n",
       "\n",
       "    .dataframe thead th {\n",
       "        text-align: right;\n",
       "    }\n",
       "</style>\n",
       "<table border=\"1\" class=\"dataframe\">\n",
       "  <thead>\n",
       "    <tr style=\"text-align: right;\">\n",
       "      <th></th>\n",
       "      <th>Borough</th>\n",
       "      <th>Neighborhood</th>\n",
       "      <th>Latitude</th>\n",
       "      <th>Longitude</th>\n",
       "      <th>Average Rating</th>\n",
       "    </tr>\n",
       "  </thead>\n",
       "  <tbody>\n",
       "  </tbody>\n",
       "</table>\n",
       "</div>"
      ],
      "text/plain": [
       "Empty DataFrame\n",
       "Columns: [Borough, Neighborhood, Latitude, Longitude, Average Rating]\n",
       "Index: []"
      ]
     },
     "execution_count": 258,
     "metadata": {},
     "output_type": "execute_result"
    }
   ],
   "source": [
    "ny_neighborhood_stats"
   ]
  },
  {
   "cell_type": "markdown",
   "metadata": {},
   "source": [
    "Now we will show this data on a map"
   ]
  },
  {
   "cell_type": "code",
   "execution_count": 259,
   "metadata": {},
   "outputs": [],
   "source": [
    "# create map and display it\n",
    "ny_map = folium.Map(location=geo_location('New York'), zoom_start=12)"
   ]
  },
  {
   "cell_type": "code",
   "execution_count": 260,
   "metadata": {},
   "outputs": [],
   "source": [
    "incidents = folium.map.FeatureGroup()\n",
    "\n",
    "# loop through the 100 crimes and add each to the incidents feature group\n",
    "for lat, lng, in ny_neighborhood_stats[['Latitude','Longitude']].values:\n",
    "    incidents.add_child(\n",
    "        folium.CircleMarker(\n",
    "            [lat, lng],\n",
    "            radius=10, # define how big you want the circle markers to be\n",
    "            color='yellow',\n",
    "            fill=True,\n",
    "            fill_color='blue',\n",
    "            fill_opacity=0.6\n",
    "        )\n",
    "    )"
   ]
  },
  {
   "cell_type": "markdown",
   "metadata": {},
   "source": [
    "Lets add a new field to dataframe for labeling purpose"
   ]
  },
  {
   "cell_type": "code",
   "execution_count": 261,
   "metadata": {},
   "outputs": [],
   "source": [
    "ny_neighborhood_stats['Label']=ny_neighborhood_stats['Neighborhood']+', '+ny_neighborhood_stats['Borough']+'('+ny_neighborhood_stats['Average Rating'].map(str)+')'"
   ]
  },
  {
   "cell_type": "code",
   "execution_count": 262,
   "metadata": {},
   "outputs": [
    {
     "data": {
      "text/html": [
       "<div style=\"width:100%;\"><div style=\"position:relative;width:100%;height:0;padding-bottom:60%;\"><span style=\"color:#565656\">Make this Notebook Trusted to load map: File -> Trust Notebook</span><iframe src=\"about:blank\" style=\"position:absolute;width:100%;height:100%;left:0;top:0;border:none !important;\" data-html=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 onload=\"this.contentDocument.open();this.contentDocument.write(atob(this.getAttribute('data-html')));this.contentDocument.close();\" allowfullscreen webkitallowfullscreen mozallowfullscreen></iframe></div></div>"
      ],
      "text/plain": [
       "<folium.folium.Map at 0xaf22160>"
      ]
     },
     "execution_count": 262,
     "metadata": {},
     "output_type": "execute_result"
    }
   ],
   "source": [
    "# add pop-up text to each marker on the map\n",
    "for lat, lng, label in ny_neighborhood_stats[['Latitude','Longitude','Label']].values:\n",
    "    folium.Marker([lat, lng], popup=label).add_to(ny_map)        \n",
    "# add incidents to map\n",
    "ny_map.add_child(incidents)"
   ]
  },
  {
   "cell_type": "markdown",
   "metadata": {},
   "source": [
    "Now that we have visualized the Neighborhoods.\n",
    "Lets Visualize Boroughs based on average Rating"
   ]
  },
  {
   "cell_type": "code",
   "execution_count": 275,
   "metadata": {
    "scrolled": true
   },
   "outputs": [
    {
     "ename": "FileNotFoundError",
     "evalue": "[Errno 2] No such file or directory: 'Borough Boundaries.geojson'",
     "output_type": "error",
     "traceback": [
      "\u001b[1;31m---------------------------------------------------------------------------\u001b[0m",
      "\u001b[1;31mFileNotFoundError\u001b[0m                         Traceback (most recent call last)",
      "\u001b[1;32m<ipython-input-275-ebe246b43de3>\u001b[0m in \u001b[0;36m<module>\u001b[1;34m\u001b[0m\n\u001b[0;32m     10\u001b[0m     \u001b[0mfill_opacity\u001b[0m\u001b[1;33m=\u001b[0m\u001b[1;36m0.7\u001b[0m\u001b[1;33m,\u001b[0m\u001b[1;33m\u001b[0m\u001b[1;33m\u001b[0m\u001b[0m\n\u001b[0;32m     11\u001b[0m     \u001b[0mline_opacity\u001b[0m\u001b[1;33m=\u001b[0m\u001b[1;36m0.2\u001b[0m\u001b[1;33m,\u001b[0m\u001b[1;33m\u001b[0m\u001b[1;33m\u001b[0m\u001b[0m\n\u001b[1;32m---> 12\u001b[1;33m     \u001b[0mlegend_name\u001b[0m\u001b[1;33m=\u001b[0m\u001b[1;34m'Average Rating'\u001b[0m\u001b[1;33m\u001b[0m\u001b[1;33m\u001b[0m\u001b[0m\n\u001b[0m\u001b[0;32m     13\u001b[0m )\n\u001b[0;32m     14\u001b[0m \u001b[1;33m\u001b[0m\u001b[0m\n",
      "\u001b[1;32m~\\Anaconda3\\lib\\site-packages\\folium\\folium.py\u001b[0m in \u001b[0;36mchoropleth\u001b[1;34m(self, *args, **kwargs)\u001b[0m\n\u001b[0;32m    416\u001b[0m         )\n\u001b[0;32m    417\u001b[0m         \u001b[1;32mfrom\u001b[0m \u001b[0mfolium\u001b[0m\u001b[1;33m.\u001b[0m\u001b[0mfeatures\u001b[0m \u001b[1;32mimport\u001b[0m \u001b[0mChoropleth\u001b[0m\u001b[1;33m\u001b[0m\u001b[1;33m\u001b[0m\u001b[0m\n\u001b[1;32m--> 418\u001b[1;33m         \u001b[0mself\u001b[0m\u001b[1;33m.\u001b[0m\u001b[0madd_child\u001b[0m\u001b[1;33m(\u001b[0m\u001b[0mChoropleth\u001b[0m\u001b[1;33m(\u001b[0m\u001b[1;33m*\u001b[0m\u001b[0margs\u001b[0m\u001b[1;33m,\u001b[0m \u001b[1;33m**\u001b[0m\u001b[0mkwargs\u001b[0m\u001b[1;33m)\u001b[0m\u001b[1;33m)\u001b[0m\u001b[1;33m\u001b[0m\u001b[1;33m\u001b[0m\u001b[0m\n\u001b[0m\u001b[0;32m    419\u001b[0m \u001b[1;33m\u001b[0m\u001b[0m\n\u001b[0;32m    420\u001b[0m     \u001b[1;32mdef\u001b[0m \u001b[0mkeep_in_front\u001b[0m\u001b[1;33m(\u001b[0m\u001b[0mself\u001b[0m\u001b[1;33m,\u001b[0m \u001b[1;33m*\u001b[0m\u001b[0margs\u001b[0m\u001b[1;33m)\u001b[0m\u001b[1;33m:\u001b[0m\u001b[1;33m\u001b[0m\u001b[1;33m\u001b[0m\u001b[0m\n",
      "\u001b[1;32m~\\Anaconda3\\lib\\site-packages\\folium\\features.py\u001b[0m in \u001b[0;36m__init__\u001b[1;34m(self, geo_data, data, columns, key_on, bins, fill_color, nan_fill_color, fill_opacity, nan_fill_opacity, line_color, line_weight, line_opacity, name, legend_name, overlay, control, show, topojson, smooth_factor, highlight, **kwargs)\u001b[0m\n\u001b[0;32m   1249\u001b[0m                 \u001b[0mstyle_function\u001b[0m\u001b[1;33m=\u001b[0m\u001b[0mstyle_function\u001b[0m\u001b[1;33m,\u001b[0m\u001b[1;33m\u001b[0m\u001b[1;33m\u001b[0m\u001b[0m\n\u001b[0;32m   1250\u001b[0m                 \u001b[0msmooth_factor\u001b[0m\u001b[1;33m=\u001b[0m\u001b[0msmooth_factor\u001b[0m\u001b[1;33m,\u001b[0m\u001b[1;33m\u001b[0m\u001b[1;33m\u001b[0m\u001b[0m\n\u001b[1;32m-> 1251\u001b[1;33m                 highlight_function=highlight_function if highlight else None)\n\u001b[0m\u001b[0;32m   1252\u001b[0m \u001b[1;33m\u001b[0m\u001b[0m\n\u001b[0;32m   1253\u001b[0m         \u001b[0mself\u001b[0m\u001b[1;33m.\u001b[0m\u001b[0madd_child\u001b[0m\u001b[1;33m(\u001b[0m\u001b[0mself\u001b[0m\u001b[1;33m.\u001b[0m\u001b[0mgeojson\u001b[0m\u001b[1;33m)\u001b[0m\u001b[1;33m\u001b[0m\u001b[1;33m\u001b[0m\u001b[0m\n",
      "\u001b[1;32m~\\Anaconda3\\lib\\site-packages\\folium\\features.py\u001b[0m in \u001b[0;36m__init__\u001b[1;34m(self, data, style_function, highlight_function, name, overlay, control, show, smooth_factor, tooltip, embed, popup)\u001b[0m\n\u001b[0;32m    451\u001b[0m         \u001b[0mself\u001b[0m\u001b[1;33m.\u001b[0m\u001b[0mhighlight\u001b[0m \u001b[1;33m=\u001b[0m \u001b[0mhighlight_function\u001b[0m \u001b[1;32mis\u001b[0m \u001b[1;32mnot\u001b[0m \u001b[1;32mNone\u001b[0m\u001b[1;33m\u001b[0m\u001b[1;33m\u001b[0m\u001b[0m\n\u001b[0;32m    452\u001b[0m \u001b[1;33m\u001b[0m\u001b[0m\n\u001b[1;32m--> 453\u001b[1;33m         \u001b[0mself\u001b[0m\u001b[1;33m.\u001b[0m\u001b[0mdata\u001b[0m \u001b[1;33m=\u001b[0m \u001b[0mself\u001b[0m\u001b[1;33m.\u001b[0m\u001b[0mprocess_data\u001b[0m\u001b[1;33m(\u001b[0m\u001b[0mdata\u001b[0m\u001b[1;33m)\u001b[0m\u001b[1;33m\u001b[0m\u001b[1;33m\u001b[0m\u001b[0m\n\u001b[0m\u001b[0;32m    454\u001b[0m \u001b[1;33m\u001b[0m\u001b[0m\n\u001b[0;32m    455\u001b[0m         \u001b[1;32mif\u001b[0m \u001b[0mself\u001b[0m\u001b[1;33m.\u001b[0m\u001b[0mstyle\u001b[0m \u001b[1;32mor\u001b[0m \u001b[0mself\u001b[0m\u001b[1;33m.\u001b[0m\u001b[0mhighlight\u001b[0m\u001b[1;33m:\u001b[0m\u001b[1;33m\u001b[0m\u001b[1;33m\u001b[0m\u001b[0m\n",
      "\u001b[1;32m~\\Anaconda3\\lib\\site-packages\\folium\\features.py\u001b[0m in \u001b[0;36mprocess_data\u001b[1;34m(self, data)\u001b[0m\n\u001b[0;32m    488\u001b[0m                 \u001b[1;32mif\u001b[0m \u001b[1;32mnot\u001b[0m \u001b[0mself\u001b[0m\u001b[1;33m.\u001b[0m\u001b[0membed\u001b[0m\u001b[1;33m:\u001b[0m\u001b[1;33m\u001b[0m\u001b[1;33m\u001b[0m\u001b[0m\n\u001b[0;32m    489\u001b[0m                     \u001b[0mself\u001b[0m\u001b[1;33m.\u001b[0m\u001b[0membed_link\u001b[0m \u001b[1;33m=\u001b[0m \u001b[0mdata\u001b[0m\u001b[1;33m\u001b[0m\u001b[1;33m\u001b[0m\u001b[0m\n\u001b[1;32m--> 490\u001b[1;33m                 \u001b[1;32mwith\u001b[0m \u001b[0mopen\u001b[0m\u001b[1;33m(\u001b[0m\u001b[0mdata\u001b[0m\u001b[1;33m)\u001b[0m \u001b[1;32mas\u001b[0m \u001b[0mf\u001b[0m\u001b[1;33m:\u001b[0m\u001b[1;33m\u001b[0m\u001b[1;33m\u001b[0m\u001b[0m\n\u001b[0m\u001b[0;32m    491\u001b[0m                     \u001b[1;32mreturn\u001b[0m \u001b[0mjson\u001b[0m\u001b[1;33m.\u001b[0m\u001b[0mloads\u001b[0m\u001b[1;33m(\u001b[0m\u001b[0mf\u001b[0m\u001b[1;33m.\u001b[0m\u001b[0mread\u001b[0m\u001b[1;33m(\u001b[0m\u001b[1;33m)\u001b[0m\u001b[1;33m)\u001b[0m\u001b[1;33m\u001b[0m\u001b[1;33m\u001b[0m\u001b[0m\n\u001b[0;32m    492\u001b[0m         \u001b[1;32melif\u001b[0m \u001b[0mhasattr\u001b[0m\u001b[1;33m(\u001b[0m\u001b[0mdata\u001b[0m\u001b[1;33m,\u001b[0m \u001b[1;34m'__geo_interface__'\u001b[0m\u001b[1;33m)\u001b[0m\u001b[1;33m:\u001b[0m\u001b[1;33m\u001b[0m\u001b[1;33m\u001b[0m\u001b[0m\n",
      "\u001b[1;31mFileNotFoundError\u001b[0m: [Errno 2] No such file or directory: 'Borough Boundaries.geojson'"
     ]
    }
   ],
   "source": [
    "ny_map = folium.Map(location=geo_location('New York'), zoom_start=12)\n",
    "ny_geo = r'Borough Boundaries.geojson'\n",
    "\n",
    "ny_map.choropleth(\n",
    "    geo_data=ny_geo,\n",
    "    data=ny_borough_stats,\n",
    "    columns=['Borough', 'Average Rating'],\n",
    "    key_on='feature.properties.boro_name',\n",
    "    fill_color='YlOrRd', \n",
    "    fill_opacity=0.7, \n",
    "    line_opacity=0.2,\n",
    "    legend_name='Average Rating'\n",
    ")\n",
    "\n",
    "# display map\n",
    "# as this is huge map data , we will save it to a file\n",
    "ny_map.save('borough_rating.html')"
   ]
  },
  {
   "cell_type": "code",
   "execution_count": null,
   "metadata": {},
   "outputs": [],
   "source": []
  },
  {
   "cell_type": "code",
   "execution_count": null,
   "metadata": {},
   "outputs": [],
   "source": []
  }
 ],
 "metadata": {
  "kernelspec": {
   "display_name": "Python 3",
   "language": "python",
   "name": "python3"
  },
  "language_info": {
   "codemirror_mode": {
    "name": "ipython",
    "version": 3
   },
   "file_extension": ".py",
   "mimetype": "text/x-python",
   "name": "python",
   "nbconvert_exporter": "python",
   "pygments_lexer": "ipython3",
   "version": "3.7.3"
  }
 },
 "nbformat": 4,
 "nbformat_minor": 2
}
